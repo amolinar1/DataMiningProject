{
  "nbformat": 4,
  "nbformat_minor": 0,
  "metadata": {
    "colab": {
      "name": "Nestle_final.ipynb",
      "provenance": [],
      "collapsed_sections": []
    },
    "kernelspec": {
      "name": "python3",
      "display_name": "Python 3"
    }
  },
  "cells": [
    {
      "cell_type": "markdown",
      "metadata": {
        "id": "WC3M82xdO4jl"
      },
      "source": [
        "# **Data Mining & Machine learning 2020 - Team Nestle**\n",
        "###Final project of the data mining and machine learning course\n",
        "\n",
        "- Agon Husejni\n",
        "- Alberto Molinaro\n",
        "- Mila Saqipi\n",
        "\n",
        "##Project - Challenge\n",
        "Real or Not? NLP with Disaster Tweets: In this project you are challenged to build a Machine Learning model that can predict which tweets are about a real disaster and which are not. The project topic is based around a Kaggle competition.\n",
        "\n",
        "Have you ever wondered if the news were true or not? It is what we are trying to do with our prediction model on tweet related to disasters. Given a set of tweets, we are trying to predict if the messages in the tweets are true or not. We will try to build a model with the best possible accuracy with the data provided.\n",
        "\n",
        "Here is the summary of our submission with the work accomplished.\n",
        "\n",
        "##Submissions\n",
        "\n",
        "For this project, we used AIcrowd (a crowdsourcing platform for code) to submit our predictions. The platform gave us the accuracy score of our model in comparison with the true values. For example, if 80% of our predictions are rights, the accuracy score is going to be 80%.\n",
        "\n",
        "Submission 1:\n",
        "- No cleaning\n",
        "- No testing of models or parameters\n",
        "- Used TF-IDF\n",
        "-Model: simple LogisticRegressionCV (without specific parameters)\n",
        "- Keep it very basic, just to see what we are working with and have our \"baseline\" \n",
        "- **Score: 0.793**\n",
        "\n",
        "Submission 2:\n",
        "- Data cleaning - remove unnecessary characters, urls, links etc.\n",
        "- Used TF-IDF\n",
        "- Model: LogisticRegressionCV, with (solver = 'lbfgs', max_iter=10000, random_state=72)\n",
        "- **Score: 0.817**\n",
        "\n",
        "Submission 3:\n",
        "- Same as Submission 2\n",
        "- A little bit of hyperparameter tuning (Cs = 20, cv = 5)\n",
        "- Concatenated keywords and text\n",
        "- **Score: 0.819**\n",
        "\n",
        "Submission 4:\n",
        "- Advanced data cleaning\n",
        "- Optimizing parameters with GridSearch\n",
        "- **Score: 0.82**\n",
        "\n",
        "\n",
        "Submission 5:\n",
        "- Optimizing parameters with gridSearch\n",
        "- Optimizing TF-IDF parameters\n",
        "- **Score : 0.823 (best one)**\n",
        "\n",
        "If you want to skip the data cleaning and pre-processing, for avoiding wasting time, go directly to section 4.1 where you can directly load the pre-processed data from the Github repository that we used to build the model."
      ]
    },
    {
      "cell_type": "markdown",
      "metadata": {
        "id": "KIYwKtYlPIqx"
      },
      "source": [
        "## **0.Packages**"
      ]
    },
    {
      "cell_type": "markdown",
      "metadata": {
        "id": "p4qp7DnSbbCt"
      },
      "source": [
        "First of all, we need to install some packages like Pandas, the python data analysis library, Seaborn for statistical data visualization, Sklearn the machine learning library and others."
      ]
    },
    {
      "cell_type": "code",
      "metadata": {
        "id": "WBOVWboENuLg"
      },
      "source": [
        "!pip install -U autocorrect"
      ],
      "execution_count": null,
      "outputs": []
    },
    {
      "cell_type": "code",
      "metadata": {
        "id": "c04KTlt1kdkE"
      },
      "source": [
        "# import all necessary packages\n",
        "import pandas as pd\n",
        "import seaborn as sns\n",
        "from sklearn.feature_extraction.text import CountVectorizer,TfidfVectorizer\n",
        "from sklearn.base import TransformerMixin\n",
        "import spacy\n",
        "from sklearn.pipeline import Pipeline\n",
        "import string\n",
        "from spacy.lang.en.stop_words import STOP_WORDS\n",
        "from spacy.lang.en import English\n",
        "from sklearn.model_selection import train_test_split, GridSearchCV\n",
        "from sklearn.linear_model import LogisticRegression\n",
        "from sklearn.ensemble import RandomForestClassifier\n",
        "from sklearn.neighbors import KNeighborsClassifier\n",
        "from sklearn.metrics import confusion_matrix, accuracy_score, precision_score, recall_score, f1_score\n",
        "import re \n",
        "import string \n",
        "import unicodedata\n",
        "import gensim\n",
        "from sklearn.preprocessing import LabelEncoder, OneHotEncoder, StandardScaler\n",
        "from sklearn.linear_model import LogisticRegressionCV\n",
        "from sklearn.model_selection import cross_val_score\n",
        "from sklearn.tree import DecisionTreeClassifier\n",
        "from sklearn import datasets\n",
        "from sklearn.utils.multiclass import unique_labels\n",
        "import numpy as np\n",
        "import matplotlib.pyplot as plt\n",
        "from wordcloud import WordCloud, STOPWORDS\n",
        "import itertools\n",
        "from autocorrect import spell, Speller\n",
        "import base64\n",
        "import pandas as pd\n",
        "from IPython.display import HTML\n",
        "from bs4 import BeautifulSoup"
      ],
      "execution_count": 1,
      "outputs": []
    },
    {
      "cell_type": "code",
      "metadata": {
        "id": "OmJm8xvHJLEh"
      },
      "source": [
        "sp = spacy.load('en_core_web_sm')"
      ],
      "execution_count": null,
      "outputs": []
    },
    {
      "cell_type": "markdown",
      "metadata": {
        "id": "C6-6NUsWca7H"
      },
      "source": [
        "This function (create_download_link) allows us to download a csv file where we can find the predictions of the test data after building the model."
      ]
    },
    {
      "cell_type": "code",
      "metadata": {
        "id": "5qvA7nboKvXu"
      },
      "source": [
        "# a special function that will allow us to directly download \n",
        "# the file in csv format\n",
        "def create_download_link( df, title = \"Download CSV file\", filename = \"data.csv\"):\n",
        "    csv = df.to_csv()\n",
        "    b64 = base64.b64encode(csv.encode())\n",
        "    payload = b64.decode()\n",
        "    html = '<a download=\"{filename}\" href=\"data:text/csv;base64,{payload}\" target=\"_blank\">{title}</a>'\n",
        "    html = html.format(payload=payload,title=title,filename=filename)\n",
        "    return HTML(html)"
      ],
      "execution_count": null,
      "outputs": []
    },
    {
      "cell_type": "markdown",
      "metadata": {
        "id": "RVg7diN3PTy8"
      },
      "source": [
        "# **1.Data**"
      ]
    },
    {
      "cell_type": "markdown",
      "metadata": {
        "id": "0sVV-wyTcySl"
      },
      "source": [
        "Let's explore the data! We load and display both the training and the test data."
      ]
    },
    {
      "cell_type": "code",
      "metadata": {
        "colab": {
          "base_uri": "https://localhost:8080/",
          "height": 419
        },
        "id": "hRkY0KWtkhsY",
        "outputId": "8e2926cc-4120-4a1d-d259-d037465b0392"
      },
      "source": [
        "# load the training data\n",
        "training_data = pd.read_csv(\"https://raw.githubusercontent.com/amolinar1/DataMiningProject/main/data/training_data.csv?token=ARFNVHJHVCO5RTK2WCS7QCK7WEVU6\")\n",
        "training_data"
      ],
      "execution_count": null,
      "outputs": [
        {
          "output_type": "execute_result",
          "data": {
            "text/html": [
              "<div>\n",
              "<style scoped>\n",
              "    .dataframe tbody tr th:only-of-type {\n",
              "        vertical-align: middle;\n",
              "    }\n",
              "\n",
              "    .dataframe tbody tr th {\n",
              "        vertical-align: top;\n",
              "    }\n",
              "\n",
              "    .dataframe thead th {\n",
              "        text-align: right;\n",
              "    }\n",
              "</style>\n",
              "<table border=\"1\" class=\"dataframe\">\n",
              "  <thead>\n",
              "    <tr style=\"text-align: right;\">\n",
              "      <th></th>\n",
              "      <th>id</th>\n",
              "      <th>keyword</th>\n",
              "      <th>location</th>\n",
              "      <th>text</th>\n",
              "      <th>target</th>\n",
              "    </tr>\n",
              "  </thead>\n",
              "  <tbody>\n",
              "    <tr>\n",
              "      <th>0</th>\n",
              "      <td>3738</td>\n",
              "      <td>destroyed</td>\n",
              "      <td>USA</td>\n",
              "      <td>Black Eye 9: A space battle occurred at Star O...</td>\n",
              "      <td>0</td>\n",
              "    </tr>\n",
              "    <tr>\n",
              "      <th>1</th>\n",
              "      <td>853</td>\n",
              "      <td>bioterror</td>\n",
              "      <td>NaN</td>\n",
              "      <td>#world FedEx no longer to transport bioterror ...</td>\n",
              "      <td>0</td>\n",
              "    </tr>\n",
              "    <tr>\n",
              "      <th>2</th>\n",
              "      <td>10540</td>\n",
              "      <td>windstorm</td>\n",
              "      <td>Palm Beach County, FL</td>\n",
              "      <td>Reality Training: Train falls off elevated tra...</td>\n",
              "      <td>1</td>\n",
              "    </tr>\n",
              "    <tr>\n",
              "      <th>3</th>\n",
              "      <td>5988</td>\n",
              "      <td>hazardous</td>\n",
              "      <td>USA</td>\n",
              "      <td>#Taiwan Grace: expect that large rocks trees m...</td>\n",
              "      <td>1</td>\n",
              "    </tr>\n",
              "    <tr>\n",
              "      <th>4</th>\n",
              "      <td>6328</td>\n",
              "      <td>hostage</td>\n",
              "      <td>Australia</td>\n",
              "      <td>New ISIS Video: ISIS Threatens to Behead Croat...</td>\n",
              "      <td>1</td>\n",
              "    </tr>\n",
              "    <tr>\n",
              "      <th>...</th>\n",
              "      <td>...</td>\n",
              "      <td>...</td>\n",
              "      <td>...</td>\n",
              "      <td>...</td>\n",
              "      <td>...</td>\n",
              "    </tr>\n",
              "    <tr>\n",
              "      <th>6466</th>\n",
              "      <td>4377</td>\n",
              "      <td>earthquake</td>\n",
              "      <td>ARGENTINA</td>\n",
              "      <td>#Earthquake #Sismo M 1.9 - 15km E of Anchorage...</td>\n",
              "      <td>1</td>\n",
              "    </tr>\n",
              "    <tr>\n",
              "      <th>6467</th>\n",
              "      <td>3408</td>\n",
              "      <td>derail</td>\n",
              "      <td>NaN</td>\n",
              "      <td>@EmiiliexIrwin Totally agree.She is 23 and kno...</td>\n",
              "      <td>0</td>\n",
              "    </tr>\n",
              "    <tr>\n",
              "      <th>6468</th>\n",
              "      <td>9794</td>\n",
              "      <td>trapped</td>\n",
              "      <td>NaN</td>\n",
              "      <td>Hollywood Movie About Trapped Miners Released ...</td>\n",
              "      <td>1</td>\n",
              "    </tr>\n",
              "    <tr>\n",
              "      <th>6469</th>\n",
              "      <td>10344</td>\n",
              "      <td>weapons</td>\n",
              "      <td>Beirut/Toronto</td>\n",
              "      <td>Friendly reminder that the only country to eve...</td>\n",
              "      <td>1</td>\n",
              "    </tr>\n",
              "    <tr>\n",
              "      <th>6470</th>\n",
              "      <td>1779</td>\n",
              "      <td>buildings%20on%20fire</td>\n",
              "      <td>NaN</td>\n",
              "      <td>Buildings are on fire and they have time for a...</td>\n",
              "      <td>1</td>\n",
              "    </tr>\n",
              "  </tbody>\n",
              "</table>\n",
              "<p>6471 rows × 5 columns</p>\n",
              "</div>"
            ],
            "text/plain": [
              "         id  ... target\n",
              "0      3738  ...      0\n",
              "1       853  ...      0\n",
              "2     10540  ...      1\n",
              "3      5988  ...      1\n",
              "4      6328  ...      1\n",
              "...     ...  ...    ...\n",
              "6466   4377  ...      1\n",
              "6467   3408  ...      0\n",
              "6468   9794  ...      1\n",
              "6469  10344  ...      1\n",
              "6470   1779  ...      1\n",
              "\n",
              "[6471 rows x 5 columns]"
            ]
          },
          "metadata": {
            "tags": []
          },
          "execution_count": 25
        }
      ]
    },
    {
      "cell_type": "code",
      "metadata": {
        "colab": {
          "base_uri": "https://localhost:8080/",
          "height": 419
        },
        "id": "LbMlgOQtknab",
        "outputId": "dbd0987a-6868-414e-ed0a-2e50aa17f903"
      },
      "source": [
        "# load test data\n",
        "test_data = pd.read_csv(\"https://raw.githubusercontent.com/amolinar1/DataMiningProject/main/data/test_data.csv?token=ARFNVHMJZM7ZIGG4YWRGD6K7WEVWW\")\n",
        "test_data"
      ],
      "execution_count": null,
      "outputs": [
        {
          "output_type": "execute_result",
          "data": {
            "text/html": [
              "<div>\n",
              "<style scoped>\n",
              "    .dataframe tbody tr th:only-of-type {\n",
              "        vertical-align: middle;\n",
              "    }\n",
              "\n",
              "    .dataframe tbody tr th {\n",
              "        vertical-align: top;\n",
              "    }\n",
              "\n",
              "    .dataframe thead th {\n",
              "        text-align: right;\n",
              "    }\n",
              "</style>\n",
              "<table border=\"1\" class=\"dataframe\">\n",
              "  <thead>\n",
              "    <tr style=\"text-align: right;\">\n",
              "      <th></th>\n",
              "      <th>id</th>\n",
              "      <th>keyword</th>\n",
              "      <th>location</th>\n",
              "      <th>text</th>\n",
              "    </tr>\n",
              "  </thead>\n",
              "  <tbody>\n",
              "    <tr>\n",
              "      <th>0</th>\n",
              "      <td>9972</td>\n",
              "      <td>tsunami</td>\n",
              "      <td>NaN</td>\n",
              "      <td>Crptotech tsunami and banks.\\n http://t.co/KHz...</td>\n",
              "    </tr>\n",
              "    <tr>\n",
              "      <th>1</th>\n",
              "      <td>9865</td>\n",
              "      <td>traumatised</td>\n",
              "      <td>Portsmouth, UK</td>\n",
              "      <td>I'm that traumatised that I can't even spell p...</td>\n",
              "    </tr>\n",
              "    <tr>\n",
              "      <th>2</th>\n",
              "      <td>1937</td>\n",
              "      <td>burning%20buildings</td>\n",
              "      <td>NaN</td>\n",
              "      <td>@foxnewsvideo @AIIAmericanGirI @ANHQDC So ... ...</td>\n",
              "    </tr>\n",
              "    <tr>\n",
              "      <th>3</th>\n",
              "      <td>3560</td>\n",
              "      <td>desolate</td>\n",
              "      <td>NaN</td>\n",
              "      <td>Me watching Law &amp;amp; Order (IB: @sauldale305)...</td>\n",
              "    </tr>\n",
              "    <tr>\n",
              "      <th>4</th>\n",
              "      <td>2731</td>\n",
              "      <td>crushed</td>\n",
              "      <td>bahstun/porta reeko</td>\n",
              "      <td>Papi absolutely crushed that ball</td>\n",
              "    </tr>\n",
              "    <tr>\n",
              "      <th>...</th>\n",
              "      <td>...</td>\n",
              "      <td>...</td>\n",
              "      <td>...</td>\n",
              "      <td>...</td>\n",
              "    </tr>\n",
              "    <tr>\n",
              "      <th>1137</th>\n",
              "      <td>3497</td>\n",
              "      <td>derailed</td>\n",
              "      <td>NaN</td>\n",
              "      <td>@ItsQueenBaby I'm at work it's a bunch of ppl ...</td>\n",
              "    </tr>\n",
              "    <tr>\n",
              "      <th>1138</th>\n",
              "      <td>9191</td>\n",
              "      <td>suicide%20bomber</td>\n",
              "      <td>NaN</td>\n",
              "      <td>#?? #?? #??? #??? Suicide bomber kills 15 in S...</td>\n",
              "    </tr>\n",
              "    <tr>\n",
              "      <th>1139</th>\n",
              "      <td>10217</td>\n",
              "      <td>volcano</td>\n",
              "      <td>NaN</td>\n",
              "      <td>Eruption of Indonesian volcano sparks transpor...</td>\n",
              "    </tr>\n",
              "    <tr>\n",
              "      <th>1140</th>\n",
              "      <td>5308</td>\n",
              "      <td>fear</td>\n",
              "      <td>New York</td>\n",
              "      <td>Never let fear get in the way of achieving you...</td>\n",
              "    </tr>\n",
              "    <tr>\n",
              "      <th>1141</th>\n",
              "      <td>8044</td>\n",
              "      <td>refugees</td>\n",
              "      <td>NaN</td>\n",
              "      <td>wowo--=== 12000 Nigerian refugees repatriated ...</td>\n",
              "    </tr>\n",
              "  </tbody>\n",
              "</table>\n",
              "<p>1142 rows × 4 columns</p>\n",
              "</div>"
            ],
            "text/plain": [
              "         id  ...                                               text\n",
              "0      9972  ...  Crptotech tsunami and banks.\\n http://t.co/KHz...\n",
              "1      9865  ...  I'm that traumatised that I can't even spell p...\n",
              "2      1937  ...  @foxnewsvideo @AIIAmericanGirI @ANHQDC So ... ...\n",
              "3      3560  ...  Me watching Law &amp; Order (IB: @sauldale305)...\n",
              "4      2731  ...                  Papi absolutely crushed that ball\n",
              "...     ...  ...                                                ...\n",
              "1137   3497  ...  @ItsQueenBaby I'm at work it's a bunch of ppl ...\n",
              "1138   9191  ...  #?? #?? #??? #??? Suicide bomber kills 15 in S...\n",
              "1139  10217  ...  Eruption of Indonesian volcano sparks transpor...\n",
              "1140   5308  ...  Never let fear get in the way of achieving you...\n",
              "1141   8044  ...  wowo--=== 12000 Nigerian refugees repatriated ...\n",
              "\n",
              "[1142 rows x 4 columns]"
            ]
          },
          "metadata": {
            "tags": []
          },
          "execution_count": 26
        }
      ]
    },
    {
      "cell_type": "markdown",
      "metadata": {
        "id": "GxhInOHjR7my"
      },
      "source": [
        "Let's describe a bit of the data beginning with the training set. The training set contains 5 columns (dimensionality) and 6471 objects (numerosity). The five columns are the following: \r\n",
        "\r\n",
        "\r\n",
        "*   The id of the tweet\r\n",
        "*   The keyword associated with the tweet\r\n",
        "*   The location of the tweet\r\n",
        "*   The text of the tweet\r\n",
        "*   And finally the target (1 if the tweet is true, 0 otherwise)\r\n",
        "\r\n",
        "The test set is composed of the same columns but obviously don't contain the target column. The test set contains 4 columns (dimensionality) and 1142 objects (numerosity).\r\n",
        "\r\n",
        "\r\n"
      ]
    },
    {
      "cell_type": "markdown",
      "metadata": {
        "id": "qPrhsLqyPeaa"
      },
      "source": [
        "# **2.EDA**"
      ]
    },
    {
      "cell_type": "code",
      "metadata": {
        "colab": {
          "base_uri": "https://localhost:8080/"
        },
        "id": "D5YqxGERGV-0",
        "outputId": "7c149738-5336-415e-b682-d581adcb54f1"
      },
      "source": [
        "# some information about the data\n",
        "training_data.info()"
      ],
      "execution_count": null,
      "outputs": [
        {
          "output_type": "stream",
          "text": [
            "<class 'pandas.core.frame.DataFrame'>\n",
            "RangeIndex: 6471 entries, 0 to 6470\n",
            "Data columns (total 5 columns):\n",
            " #   Column    Non-Null Count  Dtype \n",
            "---  ------    --------------  ----- \n",
            " 0   id        6471 non-null   int64 \n",
            " 1   keyword   6416 non-null   object\n",
            " 2   location  4330 non-null   object\n",
            " 3   text      6471 non-null   object\n",
            " 4   target    6471 non-null   int64 \n",
            "dtypes: int64(2), object(3)\n",
            "memory usage: 252.9+ KB\n"
          ],
          "name": "stdout"
        }
      ]
    },
    {
      "cell_type": "markdown",
      "metadata": {
        "id": "KYp4z3tldvUY"
      },
      "source": [
        "We can see some missing value in the dataframes and sometimes some strange characters. Let's see how many missing values there are in the training set and explore a little what types of data there are."
      ]
    },
    {
      "cell_type": "code",
      "metadata": {
        "colab": {
          "base_uri": "https://localhost:8080/"
        },
        "id": "IOhKiD9eGcps",
        "outputId": "67732e05-7d16-4625-a91a-8360f6018705"
      },
      "source": [
        "# most frequent keywords in our training data\n",
        "training_data.keyword.value_counts()"
      ],
      "execution_count": null,
      "outputs": [
        {
          "output_type": "execute_result",
          "data": {
            "text/plain": [
              "deluge                   39\n",
              "earthquake               38\n",
              "collision                37\n",
              "harm                     37\n",
              "fatalities               36\n",
              "                         ..\n",
              "forest%20fire            18\n",
              "epicentre                10\n",
              "threat                   10\n",
              "radiation%20emergency     9\n",
              "inundation                6\n",
              "Name: keyword, Length: 221, dtype: int64"
            ]
          },
          "metadata": {
            "tags": []
          },
          "execution_count": 8
        }
      ]
    },
    {
      "cell_type": "markdown",
      "metadata": {
        "id": "LKOxne2ZeZ9_"
      },
      "source": [
        "As you can see, there aren't missing values for the id column but for location and keywords there are some. In the two datasets the types of the objects have not to be changed.\r\n",
        "\r\n",
        "In the following code, We are observing the column 'keyword'."
      ]
    },
    {
      "cell_type": "markdown",
      "metadata": {
        "id": "ggqat3TFXsED"
      },
      "source": [
        "Now that we load the data, let's see what's inside the columns. \r\n",
        "\r\n",
        "First of all, we think that the column 'keyword' could be usefull for our model this is why we are going to explore what are the most frequent words in this column through this histogram."
      ]
    },
    {
      "cell_type": "code",
      "metadata": {
        "colab": {
          "base_uri": "https://localhost:8080/",
          "height": 331
        },
        "id": "oQcjhTqVGpdt",
        "outputId": "62e70ec6-7a77-4bcd-d2af-29bc8f324179"
      },
      "source": [
        "# bar plot to compare visually the 15 most frequent keywords \n",
        "# in our training data\n",
        "training_data.keyword.value_counts()[:15].plot(kind='bar')"
      ],
      "execution_count": null,
      "outputs": [
        {
          "output_type": "execute_result",
          "data": {
            "text/plain": [
              "<matplotlib.axes._subplots.AxesSubplot at 0x7f951f43a278>"
            ]
          },
          "metadata": {
            "tags": []
          },
          "execution_count": 10
        },
        {
          "output_type": "display_data",
          "data": {
            "image/png": "[encoded data removed]",
            "text/plain": [
              "<Figure size 432x288 with 1 Axes>"
            ]
          },
          "metadata": {
            "tags": [],
            "needs_background": "light"
          }
        }
      ]
    },
    {
      "cell_type": "code",
      "metadata": {
        "colab": {
          "base_uri": "https://localhost:8080/",
          "height": 282
        },
        "id": "YdSbFcoUKTJT",
        "outputId": "4866f9c0-3f2f-477a-dcb5-102305d502b0"
      },
      "source": [
        "disaster = training_data[training_data['target'] == 1]\n",
        "disaster.keyword.value_counts()[:15].plot(kind='barh')"
      ],
      "execution_count": null,
      "outputs": [
        {
          "output_type": "execute_result",
          "data": {
            "text/plain": [
              "<matplotlib.axes._subplots.AxesSubplot at 0x7f7cc8b8c390>"
            ]
          },
          "metadata": {
            "tags": []
          },
          "execution_count": 30
        },
        {
          "output_type": "display_data",
          "data": {
            "image/png": "[encoded data removed]",
            "text/plain": [
              "<Figure size 432x288 with 1 Axes>"
            ]
          },
          "metadata": {
            "tags": [],
            "needs_background": "light"
          }
        }
      ]
    },
    {
      "cell_type": "code",
      "metadata": {
        "colab": {
          "base_uri": "https://localhost:8080/",
          "height": 282
        },
        "id": "6Ttd-QQTMn_C",
        "outputId": "e601380b-86d5-4aa1-fc92-d3dd529d9623"
      },
      "source": [
        "nondisaster = training_data[training_data['target'] == 0]\n",
        "nondisaster.keyword.value_counts()[:15].plot(kind='barh')"
      ],
      "execution_count": null,
      "outputs": [
        {
          "output_type": "execute_result",
          "data": {
            "text/plain": [
              "<matplotlib.axes._subplots.AxesSubplot at 0x7f7cc8bbb898>"
            ]
          },
          "metadata": {
            "tags": []
          },
          "execution_count": 29
        },
        {
          "output_type": "display_data",
          "data": {
            "image/png": "[encoded data removed]",
            "text/plain": [
              "<Figure size 432x288 with 1 Axes>"
            ]
          },
          "metadata": {
            "tags": [],
            "needs_background": "light"
          }
        }
      ]
    },
    {
      "cell_type": "markdown",
      "metadata": {
        "id": "cThuHJ2KYso2"
      },
      "source": [
        "We can see that most of the keywords are about disasters as we said before and that the keywords associated with the tweets aren't the same if the tweets are true or not.\r\n",
        "\r\n",
        "Let's see how many missing values there are in this columns."
      ]
    },
    {
      "cell_type": "code",
      "metadata": {
        "colab": {
          "base_uri": "https://localhost:8080/"
        },
        "id": "Is9HrbaUGybm",
        "outputId": "0e7517d6-836a-4430-8de5-62eda7b9ef7a"
      },
      "source": [
        "# See how many nan values we have in total in the keywords column \n",
        "# in our training data\n",
        "training_data.keyword.isna().value_counts()"
      ],
      "execution_count": null,
      "outputs": [
        {
          "output_type": "execute_result",
          "data": {
            "text/plain": [
              "False    6416\n",
              "True       55\n",
              "Name: keyword, dtype: int64"
            ]
          },
          "metadata": {
            "tags": []
          },
          "execution_count": 11
        }
      ]
    },
    {
      "cell_type": "markdown",
      "metadata": {
        "id": "8V2yFF31ZdlR"
      },
      "source": [
        "There are 55 missing values in the keyword column in the training dataset and 5 missing values in the test data. As you can see below, we printed how many unique keywords there are in the training set and furthermore, we printed all the keywords to see if there are some mistakes."
      ]
    },
    {
      "cell_type": "code",
      "metadata": {
        "colab": {
          "base_uri": "https://localhost:8080/"
        },
        "id": "aYkEyZDFG--2",
        "outputId": "5f41265d-9d61-4e87-b528-c65127ae69c4"
      },
      "source": [
        "# how many unique keywords do we have in our training data\n",
        "training_data.keyword.nunique()"
      ],
      "execution_count": null,
      "outputs": [
        {
          "output_type": "execute_result",
          "data": {
            "text/plain": [
              "221"
            ]
          },
          "metadata": {
            "tags": []
          },
          "execution_count": 12
        }
      ]
    },
    {
      "cell_type": "code",
      "metadata": {
        "colab": {
          "base_uri": "https://localhost:8080/"
        },
        "id": "HKjs_SaGHa5q",
        "outputId": "c06f6ca3-cd54-4678-c5b8-b103f3a84df9"
      },
      "source": [
        "# display all unique keywords in our training data\n",
        "training_data.keyword.unique()"
      ],
      "execution_count": null,
      "outputs": [
        {
          "output_type": "execute_result",
          "data": {
            "text/plain": [
              "array(['destroyed', 'bioterror', 'windstorm', 'hazardous', 'hostage',\n",
              "       'landslide', 'trapped', 'weapons', 'burning%20buildings',\n",
              "       'thunder', 'refugees', 'panicking', 'suicide%20bombing',\n",
              "       'buildings%20on%20fire', 'seismic', 'bridge%20collapse',\n",
              "       'emergency', 'body%20bags', 'wounded', 'quarantined',\n",
              "       'violent%20storm', 'blight', 'destroy', 'detonation', 'ambulance',\n",
              "       'armageddon', 'military', 'fatal', 'stretcher', 'devastated',\n",
              "       'thunderstorm', 'hurricane', 'mudslide', 'fatalities', 'razed',\n",
              "       'ruin', 'hostages', 'bioterrorism', 'cyclone', 'hazard', nan,\n",
              "       'fear', 'fire%20truck', 'terrorism', 'wreckage', 'fatality',\n",
              "       'forest%20fire', 'derail', 'fire', 'derailment', 'obliterated',\n",
              "       'devastation', 'lightning', 'rubble', 'casualties', 'screams',\n",
              "       'riot', 'wreck', 'bombing', 'wild%20fires', 'nuclear%20disaster',\n",
              "       'army', 'crash', 'forest%20fires', 'disaster', 'storm', 'hellfire',\n",
              "       'engulfed', 'blood', 'mass%20murderer', 'terrorist', 'crashed',\n",
              "       'hailstorm', 'panic', 'hijacking', 'danger', 'burned',\n",
              "       'obliteration', 'blazing', 'desolation', 'deaths', 'typhoon',\n",
              "       'drowned', 'crushed', 'emergency%20plan', 'sirens', 'police',\n",
              "       'explosion', 'deluge', 'outbreak', 'demolish', 'injury',\n",
              "       'evacuation', 'structural%20failure', 'collided', 'body%20bagging',\n",
              "       'wrecked', 'whirlwind', 'drought', 'oil%20spill', 'inundated',\n",
              "       'mayhem', 'pandemonium', 'weapon', 'epicentre', 'earthquake',\n",
              "       'tragedy', 'rescuers', 'dust%20storm', 'buildings%20burning',\n",
              "       'destruction', 'drown', 'chemical%20emergency', 'quarantine',\n",
              "       'debris', 'catastrophe', 'rainstorm', 'arson', 'trouble', 'sunk',\n",
              "       'twister', 'hail', 'wildfire', 'flood', 'trauma', 'suicide%20bomb',\n",
              "       'arsonist', 'displaced', 'desolate', 'aftershock', 'rescued',\n",
              "       'blizzard', 'ablaze', 'annihilation', 'lava',\n",
              "       'radiation%20emergency', 'casualty', 'floods', 'detonate',\n",
              "       'explode', 'bleeding', 'rioting', 'meltdown', 'derailed', 'bloody',\n",
              "       'bombed', 'crush', 'flooding', 'collapsed', 'hijack',\n",
              "       'traumatised', 'attack', 'flattened', 'heat%20wave', 'sinking',\n",
              "       'hijacker', 'nuclear%20reactor', 'natural%20disaster',\n",
              "       'electrocute', 'tornado', 'curfew', 'attacked', 'harm',\n",
              "       'obliterate', 'first%20responders', 'injured', 'burning', 'death',\n",
              "       'exploded', 'smoke', 'upheaval', 'demolished', 'war%20zone',\n",
              "       'catastrophic', 'dead', 'demolition', 'electrocuted', 'battle',\n",
              "       'wounds', 'screaming', 'body%20bag', 'tsunami', 'apocalypse',\n",
              "       'inundation', 'evacuated', 'mass%20murder', 'sinkhole',\n",
              "       'collision', 'sandstorm', 'suicide%20bomber', 'screamed',\n",
              "       'volcano', 'airplane%20accident', 'flames', 'blown%20up', 'bomb',\n",
              "       'blaze', 'collapse', 'annihilated', 'survivors', 'massacre',\n",
              "       'deluged', 'bush%20fires', 'loud%20bang', 'avalanche', 'drowning',\n",
              "       'accident', 'emergency%20services', 'injuries', 'famine',\n",
              "       'evacuate', 'damage', 'survive', 'eyewitness', 'blew%20up',\n",
              "       'rescue', 'cliff%20fall', 'siren', 'collide', 'survived',\n",
              "       'snowstorm', 'threat'], dtype=object)"
            ]
          },
          "metadata": {
            "tags": []
          },
          "execution_count": 13
        }
      ]
    },
    {
      "cell_type": "markdown",
      "metadata": {
        "id": "coY-qjMZaVPG"
      },
      "source": [
        "We can see that there are weird characters in the keywords. The space are replaced by '%20' this is why we are going to clean it after that.\r\n",
        "\r\n",
        "The location column didn't improve our model when adding it, this is why we decided to drop it from the analysis. \r\n",
        "\r\n",
        "For visualizing the words of the text column, we are going to create a wordcloud of the most frequent word to see if there are differences between the tweets that are false and the tweets that are false."
      ]
    },
    {
      "cell_type": "code",
      "metadata": {
        "colab": {
          "base_uri": "https://localhost:8080/"
        },
        "id": "6gyf-LbSyYS_",
        "outputId": "a189c2e2-4283-4a54-c7c9-dc087e5cc2e0"
      },
      "source": [
        "# prepare the column which we'll use to display the most frequent words through wordcloud\n",
        "cloud_words = training_data['keyword']\n",
        "cloud_words"
      ],
      "execution_count": null,
      "outputs": [
        {
          "output_type": "execute_result",
          "data": {
            "text/plain": [
              "0                   destroyed\n",
              "1                   bioterror\n",
              "2                   windstorm\n",
              "3                   hazardous\n",
              "4                     hostage\n",
              "                ...          \n",
              "6466               earthquake\n",
              "6467                   derail\n",
              "6468                  trapped\n",
              "6469                  weapons\n",
              "6470    buildings%20on%20fire\n",
              "Name: keyword, Length: 6471, dtype: object"
            ]
          },
          "metadata": {
            "tags": []
          },
          "execution_count": 13
        }
      ]
    },
    {
      "cell_type": "code",
      "metadata": {
        "colab": {
          "base_uri": "https://localhost:8080/",
          "height": 391
        },
        "id": "OX1IFWmTwcJ4",
        "outputId": "c680c4ef-4519-446d-f1d7-7fae11f23966"
      },
      "source": [
        "stop_words = spacy.lang.en.stop_words.STOP_WORDS\n",
        "wordcloud = WordCloud(\n",
        "    width = 3000,\n",
        "    height = 2000,\n",
        "    background_color = 'black',\n",
        "    stopwords = None).generate_from_frequencies(disaster.keyword.value_counts()[:25])\n",
        "fig = plt.figure(\n",
        "    figsize = (10, 5),\n",
        "    facecolor = 'k',\n",
        "    edgecolor = 'k')\n",
        "plt.imshow(wordcloud, interpolation = 'bilinear')\n",
        "plt.axis('off')\n",
        "plt.tight_layout(pad=0)\n",
        "plt.show()"
      ],
      "execution_count": null,
      "outputs": [
        {
          "output_type": "display_data",
          "data": {
            "image/png": "[encoded data removed]",
            "text/plain": [
              "<Figure size 720x360 with 1 Axes>"
            ]
          },
          "metadata": {
            "tags": []
          }
        }
      ]
    },
    {
      "cell_type": "code",
      "metadata": {
        "colab": {
          "base_uri": "https://localhost:8080/",
          "height": 391
        },
        "id": "aWXZM2ip2lJi",
        "outputId": "e7fa15ed-5cd4-4dcc-af83-50a3c81c528d"
      },
      "source": [
        "# Create and generate a word cloud image:\n",
        "wordcloud_2 = WordCloud(\n",
        "    width = 3000,\n",
        "    height = 2000,\n",
        "    background_color = 'white',\n",
        "    stopwords = None).generate_from_frequencies(nondisaster.keyword.value_counts()[:25])\n",
        "fig = plt.figure(\n",
        "    figsize = (10, 5),\n",
        "    facecolor = 'k',\n",
        "    edgecolor = 'k')\n",
        "plt.imshow(wordcloud_2, interpolation = 'bilinear')\n",
        "plt.axis('off')\n",
        "plt.tight_layout(pad=0)\n",
        "plt.show()"
      ],
      "execution_count": null,
      "outputs": [
        {
          "output_type": "display_data",
          "data": {
            "image/png": "[encoded data removed]",
            "text/plain": [
              "<Figure size 720x360 with 1 Axes>"
            ]
          },
          "metadata": {
            "tags": []
          }
        }
      ]
    },
    {
      "cell_type": "markdown",
      "metadata": {
        "id": "jcRIbcjJbcLx"
      },
      "source": [
        "Below for visualizing the 'target' column (the column that we are going to predict in the test set), we create an histogram with the count of the two values (1: true tweets, 0: fake tweets). \r\n",
        "\r\n",
        "We can see that there are more than 3500 fake tweets and more than 2500 true tweets. \r\n",
        "\r\n",
        "Below the histogram, we calculated the base rate that is equal to 0.57. 57% of the target column is fake news."
      ]
    },
    {
      "cell_type": "code",
      "metadata": {
        "colab": {
          "base_uri": "https://localhost:8080/",
          "height": 513
        },
        "id": "Kmtpqp_2ABDI",
        "outputId": "1d797251-66fe-4ab6-ad6a-3d3a4fa518c1"
      },
      "source": [
        "fig , ax = plt.subplots(figsize=(8,8))\n",
        "sns.countplot(x='target', data=training_data)\n",
        "plt.title(\"# of target in our training data\")\n",
        "plt.show()"
      ],
      "execution_count": null,
      "outputs": [
        {
          "output_type": "display_data",
          "data": {
            "image/png": "[encoded data removed]",
            "text/plain": [
              "<Figure size 576x576 with 1 Axes>"
            ]
          },
          "metadata": {
            "tags": [],
            "needs_background": "light"
          }
        }
      ]
    },
    {
      "cell_type": "code",
      "metadata": {
        "id": "plaRM5J0a9IC",
        "colab": {
          "base_uri": "https://localhost:8080/"
        },
        "outputId": "35050cea-f6be-4218-ceeb-2b72b65ff837"
      },
      "source": [
        "base_rate = training_data.target.value_counts() / training_data.shape[0] \n",
        "print(base_rate[0])"
      ],
      "execution_count": null,
      "outputs": [
        {
          "output_type": "stream",
          "text": [
            "0.5719363313243703\n"
          ],
          "name": "stdout"
        }
      ]
    },
    {
      "cell_type": "code",
      "metadata": {
        "colab": {
          "base_uri": "https://localhost:8080/"
        },
        "id": "sS4SO0oJ852Z",
        "outputId": "9b533d75-3e0d-4fec-c3d4-0b7a405012fa"
      },
      "source": [
        "round(training_data.target.value_counts()[0] / len(training_data), 2)"
      ],
      "execution_count": null,
      "outputs": [
        {
          "output_type": "execute_result",
          "data": {
            "text/plain": [
              "0.57"
            ]
          },
          "metadata": {
            "tags": []
          },
          "execution_count": 58
        }
      ]
    },
    {
      "cell_type": "markdown",
      "metadata": {
        "id": "XjtBT820Pk_C"
      },
      "source": [
        "# **3.Data Cleaning**"
      ]
    },
    {
      "cell_type": "markdown",
      "metadata": {
        "id": "dC-GiPxDcv4s"
      },
      "source": [
        "Let's clean what we have observed in the EDA section. Remember there were strange characters in the keyword column so the following code is going to clean that:"
      ]
    },
    {
      "cell_type": "code",
      "metadata": {
        "id": "5MhBfCOMHuYj"
      },
      "source": [
        "training_data.keyword = training_data.keyword.apply(lambda x: str(x).replace('%20', ' '))\n",
        "test_data.keyword = test_data.keyword.apply(lambda x: str(x).replace('%20', ' '))"
      ],
      "execution_count": null,
      "outputs": []
    },
    {
      "cell_type": "markdown",
      "metadata": {
        "id": "nlM8EhNCdLcJ"
      },
      "source": [
        "Moreover, there were missing values in the keyword column, this is why, trying multiple characters, we observed that the '#' improved the model. We decided to replace the Nan values with this character."
      ]
    },
    {
      "cell_type": "code",
      "metadata": {
        "id": "lpsi2jjeXxvn"
      },
      "source": [
        "training_data.keyword.fillna('#', inplace=True)\n",
        "test_data.keyword.fillna('#', inplace=True)"
      ],
      "execution_count": null,
      "outputs": []
    },
    {
      "cell_type": "markdown",
      "metadata": {
        "id": "AC9WXDJfCrKT"
      },
      "source": [
        "In previous trials, we saw that too much cleaning would decrease our accuracy score. So, we decide to stop here with the general data cleaning"
      ]
    },
    {
      "cell_type": "markdown",
      "metadata": {
        "id": "sQwoUdELBoV8"
      },
      "source": [
        "# **4.Pre-processing**"
      ]
    },
    {
      "cell_type": "markdown",
      "metadata": {
        "id": "BkC1YGgOd1bn"
      },
      "source": [
        "To better clean the text, in this function (tweet_processing) we tried different things to transform the text: \r\n",
        "\r\n",
        "\r\n",
        "*   We put the text in lowercase \r\n",
        " \r\n",
        "*   We standardized words. We observed that, in the tweets, sometimes there are characters like '??????', several same characters one behind the other so we decided to replace all these same characters. Example: 'freeeee' becomes 'free'.   \r\n",
        "\r\n",
        "\r\n",
        "*   Finally, we tried to deal with smileys.\r\n",
        "\r\n",
        "We decided only to keep the standardized words because it was the only thing that improved the accuracy of our model.\r\n"
      ]
    },
    {
      "cell_type": "code",
      "metadata": {
        "id": "M-z3FuLYVvnp"
      },
      "source": [
        "def tweet_processing(tweet):    \n",
        "    \n",
        "    tweet = BeautifulSoup(tweet).get_text()       \n",
        "    #Lower case\n",
        "    tweet = tweet.lower()\n",
        "    \n",
        "    #CONTRACTIONS \n",
        "    '''\n",
        "    CONTRACTIONS = load_dict_contractions()\n",
        "    tweet = tweet.replace(\"’\",\"'\")\n",
        "    words = tweet.split()\n",
        "    reformed = [CONTRACTIONS[word] if word in CONTRACTIONS else word for word in words]\n",
        "    tweet = \" \".join(reformed)\n",
        "    '''    \n",
        "    # Standardizing words\n",
        "    tweet = ''.join(''.join(s)[:2] for _, s in itertools.groupby(tweet))\n",
        "    \n",
        "    #Deal with emoticons \n",
        "    #SMILEY = load_dict_smileys()  \n",
        "    #words = tweet.split()\n",
        "    #reformed = [SMILEY[word] if word in SMILEY else word for word in words]\n",
        "    #tweet = \" \".join(reformed)\n",
        "    \n",
        "    #Deal with emojis\n",
        "    #tweet = emoji.demojize(tweet)\n",
        "\n",
        "    #tweet = tweet.replace(\":\",\" \")\n",
        "    #tweet = ' '.join(tweet.split())\n",
        "\n",
        "    return tweet"
      ],
      "execution_count": null,
      "outputs": []
    },
    {
      "cell_type": "markdown",
      "metadata": {
        "id": "UKmFc4Vwgkip"
      },
      "source": [
        "In the following code, we applied the function to the text column of the test and the train data. "
      ]
    },
    {
      "cell_type": "code",
      "metadata": {
        "colab": {
          "base_uri": "https://localhost:8080/"
        },
        "id": "7Cg7xPf8Uk9_",
        "outputId": "5a60194f-2d72-4c7c-ccdb-266c6134cd07"
      },
      "source": [
        "training_data['text'] = training_data.text.apply(tweet_cleaning)\n",
        "test_data['text'] = test_data.text.apply(tweet_cleaning)\n",
        "training_data.text"
      ],
      "execution_count": null,
      "outputs": [
        {
          "output_type": "execute_result",
          "data": {
            "text/plain": [
              "0       black eye 9: a space battle occurred at star o...\n",
              "1       #world fedex no longer to transport bioterror ...\n",
              "2       reality training: train falls off elevated tra...\n",
              "3       #taiwan grace: expect that large rocks trees m...\n",
              "4       new isis video: isis threatens to behead croat...\n",
              "                              ...                        \n",
              "6466    #earthquake #sismo m 1.9 - 15km e of anchorage...\n",
              "6467    @emiiliexirwin totally agree.she is 23 and kno...\n",
              "6468    hollywood movie about trapped miners released ...\n",
              "6469    friendly reminder that the only country to eve...\n",
              "6470    buildings are on fire and they have time for a...\n",
              "Name: text, Length: 6471, dtype: object"
            ]
          },
          "metadata": {
            "tags": []
          },
          "execution_count": 24
        }
      ]
    },
    {
      "cell_type": "markdown",
      "metadata": {
        "id": "pdJ1lux7h18Y"
      },
      "source": [
        "The function above (tweet_cleaning) transforms the words like 'Oh my godddd' in 'Oh my godd'. As you can see, there is a mistake in the text cleaned. There is a spelling error. 'Godd' should be written 'God' with only one 'd'. This is why the code below corrects the spelling mistakes in the text column. It corrects also the typos of the tweets."
      ]
    },
    {
      "cell_type": "code",
      "metadata": {
        "id": "qpoUd_hyLq7p",
        "colab": {
          "base_uri": "https://localhost:8080/",
          "height": 424
        },
        "outputId": "6bccca60-c448-47f0-d788-e0d75d322faa"
      },
      "source": [
        "# corriger les fautes d'orthographe\n",
        "speller = Speller(lang='en')\n",
        "training_data.text = training_data.text.apply(lambda x: \" \".join([speller(i) for i in x.split()]))\n",
        "test_data.text = test_data.text.apply(lambda x: \" \".join([speller(i) for i in x.split()]))\n",
        "training_data"
      ],
      "execution_count": null,
      "outputs": [
        {
          "output_type": "execute_result",
          "data": {
            "text/html": [
              "<div>\n",
              "<style scoped>\n",
              "    .dataframe tbody tr th:only-of-type {\n",
              "        vertical-align: middle;\n",
              "    }\n",
              "\n",
              "    .dataframe tbody tr th {\n",
              "        vertical-align: top;\n",
              "    }\n",
              "\n",
              "    .dataframe thead th {\n",
              "        text-align: right;\n",
              "    }\n",
              "</style>\n",
              "<table border=\"1\" class=\"dataframe\">\n",
              "  <thead>\n",
              "    <tr style=\"text-align: right;\">\n",
              "      <th></th>\n",
              "      <th>id</th>\n",
              "      <th>keyword</th>\n",
              "      <th>location</th>\n",
              "      <th>text</th>\n",
              "      <th>target</th>\n",
              "    </tr>\n",
              "  </thead>\n",
              "  <tbody>\n",
              "    <tr>\n",
              "      <th>0</th>\n",
              "      <td>3738</td>\n",
              "      <td>destroyed</td>\n",
              "      <td>USA</td>\n",
              "      <td>black eye 9: a space battle occurred at star o...</td>\n",
              "      <td>0</td>\n",
              "    </tr>\n",
              "    <tr>\n",
              "      <th>1</th>\n",
              "      <td>853</td>\n",
              "      <td>bioterror</td>\n",
              "      <td>NaN</td>\n",
              "      <td>#world index no longer to transport bioterror ...</td>\n",
              "      <td>0</td>\n",
              "    </tr>\n",
              "    <tr>\n",
              "      <th>2</th>\n",
              "      <td>10540</td>\n",
              "      <td>windstorm</td>\n",
              "      <td>Palm Beach County, FL</td>\n",
              "      <td>reality training: train falls off elevated tra...</td>\n",
              "      <td>1</td>\n",
              "    </tr>\n",
              "    <tr>\n",
              "      <th>3</th>\n",
              "      <td>5988</td>\n",
              "      <td>hazardous</td>\n",
              "      <td>USA</td>\n",
              "      <td>#taiwan grace: expect that large rocks trees m...</td>\n",
              "      <td>1</td>\n",
              "    </tr>\n",
              "    <tr>\n",
              "      <th>4</th>\n",
              "      <td>6328</td>\n",
              "      <td>hostage</td>\n",
              "      <td>Australia</td>\n",
              "      <td>new isis video: isis threatens to head croatia...</td>\n",
              "      <td>1</td>\n",
              "    </tr>\n",
              "    <tr>\n",
              "      <th>...</th>\n",
              "      <td>...</td>\n",
              "      <td>...</td>\n",
              "      <td>...</td>\n",
              "      <td>...</td>\n",
              "      <td>...</td>\n",
              "    </tr>\n",
              "    <tr>\n",
              "      <th>6466</th>\n",
              "      <td>4377</td>\n",
              "      <td>earthquake</td>\n",
              "      <td>ARGENTINA</td>\n",
              "      <td>#earthquake #shsmo m 1.9 - 15km e of anchorage...</td>\n",
              "      <td>1</td>\n",
              "    </tr>\n",
              "    <tr>\n",
              "      <th>6467</th>\n",
              "      <td>3408</td>\n",
              "      <td>derail</td>\n",
              "      <td>NaN</td>\n",
              "      <td>@emiiliexirwin totally agree.she is 23 and kno...</td>\n",
              "      <td>0</td>\n",
              "    </tr>\n",
              "    <tr>\n",
              "      <th>6468</th>\n",
              "      <td>9794</td>\n",
              "      <td>trapped</td>\n",
              "      <td>NaN</td>\n",
              "      <td>hollywood movie about trapped miners released ...</td>\n",
              "      <td>1</td>\n",
              "    </tr>\n",
              "    <tr>\n",
              "      <th>6469</th>\n",
              "      <td>10344</td>\n",
              "      <td>weapons</td>\n",
              "      <td>Beirut/Toronto</td>\n",
              "      <td>friendly reminder that the only country to eve...</td>\n",
              "      <td>1</td>\n",
              "    </tr>\n",
              "    <tr>\n",
              "      <th>6470</th>\n",
              "      <td>1779</td>\n",
              "      <td>buildings on fire</td>\n",
              "      <td>NaN</td>\n",
              "      <td>buildings are on fire and they have time for a...</td>\n",
              "      <td>1</td>\n",
              "    </tr>\n",
              "  </tbody>\n",
              "</table>\n",
              "<p>6471 rows × 5 columns</p>\n",
              "</div>"
            ],
            "text/plain": [
              "         id  ... target\n",
              "0      3738  ...      0\n",
              "1       853  ...      0\n",
              "2     10540  ...      1\n",
              "3      5988  ...      1\n",
              "4      6328  ...      1\n",
              "...     ...  ...    ...\n",
              "6466   4377  ...      1\n",
              "6467   3408  ...      0\n",
              "6468   9794  ...      1\n",
              "6469  10344  ...      1\n",
              "6470   1779  ...      1\n",
              "\n",
              "[6471 rows x 5 columns]"
            ]
          },
          "metadata": {
            "tags": []
          },
          "execution_count": 25
        }
      ]
    },
    {
      "cell_type": "markdown",
      "metadata": {
        "id": "heB6o-o_iHp8"
      },
      "source": [
        "As we saw it in the EDA section, keywords aren't the same if the tweets are true or not. This is why we created the following code that creates a new column with the keywords and the text called \"complete \" in the training set and in the test set. It is with this column that we are going to build our model."
      ]
    },
    {
      "cell_type": "code",
      "metadata": {
        "id": "q7WWJg0zH4B4"
      },
      "source": [
        "training_data['complete'] = (training_data['keyword']+ ' ' + training_data['text']).astype(str)\n",
        "test_data['complete'] = (test_data['keyword']+ ' ' + test_data['text']).astype(str)\n",
        "training_data.completer"
      ],
      "execution_count": null,
      "outputs": []
    },
    {
      "cell_type": "markdown",
      "metadata": {
        "id": "rEwX3YEdifly"
      },
      "source": [
        "We observed that there were Nan string text in the 'complete' column this is why we removed it from the column in the following code."
      ]
    },
    {
      "cell_type": "code",
      "metadata": {
        "id": "3gLSQ1s1ILn3"
      },
      "source": [
        "training_data.complete = training_data['complete'].replace('nan', ' ')\n",
        "test_data.complete = test_data['complete'].replace('nan', ' ')"
      ],
      "execution_count": null,
      "outputs": []
    },
    {
      "cell_type": "code",
      "metadata": {
        "id": "CzpYQl6t3efH"
      },
      "source": [
        "training_data.complete = (training_data.complete).astype(str)\n",
        "test_data.complete = (test_data.complete).astype(str)"
      ],
      "execution_count": null,
      "outputs": []
    },
    {
      "cell_type": "markdown",
      "metadata": {
        "id": "YAAY5EeZiwh7"
      },
      "source": [
        "To facilitate the test of our models, we created a file with the clean data so we had not to run all the code above to try different cobinaison of parameters. The code below create a link to download the clean data (train and test set). You can find these datasets on github, they are called train_2 and test_2: https://github.com/amolinar1/DataMiningProject/tree/main/data. "
      ]
    },
    {
      "cell_type": "code",
      "metadata": {
        "id": "kAtyGHHJ8QNT"
      },
      "source": [
        "create_download_link(training_data)"
      ],
      "execution_count": null,
      "outputs": []
    },
    {
      "cell_type": "code",
      "metadata": {
        "id": "f2y-wpKL8cSi"
      },
      "source": [
        "create_download_link(test_data)"
      ],
      "execution_count": null,
      "outputs": []
    },
    {
      "cell_type": "markdown",
      "metadata": {
        "id": "uBcyEJPAqHEq"
      },
      "source": [
        "Some functions we had used for better cleaning (slangs, emoticons). The following function deals with smileys (load_dict_smileys) and the other below deals with English simplifications (load_dict_contractions) that transforms \"aren't\" in \"are not\" for example.\r\n",
        "\r\n",
        "Finally, we didn't use these functions for our final predictions because they didn't improve the accuracy of our model. But we still think that if we dug a little, we could have improved the model."
      ]
    },
    {
      "cell_type": "code",
      "metadata": {
        "id": "NEJwUAjLqFPx"
      },
      "source": [
        "def load_dict_smileys():\n",
        "    \n",
        "    return {\n",
        "        \":‑)\":\"smiley\",\n",
        "        \":-]\":\"smiley\",\n",
        "        \":-3\":\"smiley\",\n",
        "        \":->\":\"smiley\",\n",
        "        \"8-)\":\"smiley\",\n",
        "        \":-}\":\"smiley\",\n",
        "        \":)\":\"smiley\",\n",
        "        \":]\":\"smiley\",\n",
        "        \":3\":\"smiley\",\n",
        "        \":>\":\"smiley\",\n",
        "        \"8)\":\"smiley\",\n",
        "        \":}\":\"smiley\",\n",
        "        \":o)\":\"smiley\",\n",
        "        \":c)\":\"smiley\",\n",
        "        \":^)\":\"smiley\",\n",
        "        \"=]\":\"smiley\",\n",
        "        \"=)\":\"smiley\",\n",
        "        \":-))\":\"smiley\",\n",
        "        \":‑D\":\"smiley\",\n",
        "        \"8‑D\":\"smiley\",\n",
        "        \"x‑D\":\"smiley\",\n",
        "        \"X‑D\":\"smiley\",\n",
        "        \":D\":\"smiley\",\n",
        "        \"8D\":\"smiley\",\n",
        "        \"xD\":\"smiley\",\n",
        "        \"XD\":\"smiley\",\n",
        "        \":‑(\":\"sad\",\n",
        "        \":‑c\":\"sad\",\n",
        "        \":‑<\":\"sad\",\n",
        "        \":‑[\":\"sad\",\n",
        "        \":(\":\"sad\",\n",
        "        \":c\":\"sad\",\n",
        "        \":<\":\"sad\",\n",
        "        \":[\":\"sad\",\n",
        "        \":-||\":\"sad\",\n",
        "        \">:[\":\"sad\",\n",
        "        \":{\":\"sad\",\n",
        "        \":@\":\"sad\",\n",
        "        \">:(\":\"sad\",\n",
        "        \":'‑(\":\"sad\",\n",
        "        \":'(\":\"sad\",\n",
        "        \":‑P\":\"playful\",\n",
        "        \"X‑P\":\"playful\",\n",
        "        \"x‑p\":\"playful\",\n",
        "        \":‑p\":\"playful\",\n",
        "        \":‑Þ\":\"playful\",\n",
        "        \":‑þ\":\"playful\",\n",
        "        \":‑b\":\"playful\",\n",
        "        \":P\":\"playful\",\n",
        "        \"XP\":\"playful\",\n",
        "        \"xp\":\"playful\",\n",
        "        \":p\":\"playful\",\n",
        "        \":Þ\":\"playful\",\n",
        "        \":þ\":\"playful\",\n",
        "        \":b\":\"playful\",\n",
        "        \"<3\":\"love\"\n",
        "        }"
      ],
      "execution_count": null,
      "outputs": []
    },
    {
      "cell_type": "code",
      "metadata": {
        "id": "IduyK1tOqZaj"
      },
      "source": [
        "def load_dict_contractions():\n",
        "    \n",
        "    return {\n",
        "        \"ain't\":\"is not\",\n",
        "        \"amn't\":\"am not\",\n",
        "        \"aren't\":\"are not\",\n",
        "        \"can't\":\"cannot\",\n",
        "        \"'cause\":\"because\",\n",
        "        \"couldn't\":\"could not\",\n",
        "        \"couldn't've\":\"could not have\",\n",
        "        \"could've\":\"could have\",\n",
        "        \"daren't\":\"dare not\",\n",
        "        \"daresn't\":\"dare not\",\n",
        "        \"dasn't\":\"dare not\",\n",
        "        \"didn't\":\"did not\",\n",
        "        \"doesn't\":\"does not\",\n",
        "        \"don't\":\"do not\",\n",
        "        \"e'er\":\"ever\",\n",
        "        \"em\":\"them\",\n",
        "        \"everyone's\":\"everyone is\",\n",
        "        \"finna\":\"fixing to\",\n",
        "        \"gimme\":\"give me\",\n",
        "        \"gonna\":\"going to\",\n",
        "        \"gon't\":\"go not\",\n",
        "        \"gotta\":\"got to\",\n",
        "        \"hadn't\":\"had not\",\n",
        "        \"hasn't\":\"has not\",\n",
        "        \"haven't\":\"have not\",\n",
        "        \"he'd\":\"he would\",\n",
        "        \"he'll\":\"he will\",\n",
        "        \"he's\":\"he is\",\n",
        "        \"he've\":\"he have\",\n",
        "        \"how'd\":\"how would\",\n",
        "        \"how'll\":\"how will\",\n",
        "        \"how're\":\"how are\",\n",
        "        \"how's\":\"how is\",\n",
        "        \"I'd\":\"I would\",\n",
        "        \"I'll\":\"I will\",\n",
        "        \"I'm\":\"I am\",\n",
        "        \"I'm'a\":\"I am about to\",\n",
        "        \"I'm'o\":\"I am going to\",\n",
        "        \"isn't\":\"is not\",\n",
        "        \"it'd\":\"it would\",\n",
        "        \"it'll\":\"it will\",\n",
        "        \"it's\":\"it is\",\n",
        "        \"I've\":\"I have\",\n",
        "        \"kinda\":\"kind of\",\n",
        "        \"let's\":\"let us\",\n",
        "        \"mayn't\":\"may not\",\n",
        "        \"may've\":\"may have\",\n",
        "        \"mightn't\":\"might not\",\n",
        "        \"might've\":\"might have\",\n",
        "        \"mustn't\":\"must not\",\n",
        "        \"mustn't've\":\"must not have\",\n",
        "        \"must've\":\"must have\",\n",
        "        \"needn't\":\"need not\",\n",
        "        \"ne'er\":\"never\",\n",
        "        \"o'\":\"of\",\n",
        "        \"o'er\":\"over\",\n",
        "        \"ol'\":\"old\",\n",
        "        \"oughtn't\":\"ought not\",\n",
        "        \"shalln't\":\"shall not\",\n",
        "        \"shan't\":\"shall not\",\n",
        "        \"she'd\":\"she would\",\n",
        "        \"she'll\":\"she will\",\n",
        "        \"she's\":\"she is\",\n",
        "        \"shouldn't\":\"should not\",\n",
        "        \"shouldn't've\":\"should not have\",\n",
        "        \"should've\":\"should have\",\n",
        "        \"somebody's\":\"somebody is\",\n",
        "        \"someone's\":\"someone is\",\n",
        "        \"something's\":\"something is\",\n",
        "        \"that'd\":\"that would\",\n",
        "        \"that'll\":\"that will\",\n",
        "        \"that're\":\"that are\",\n",
        "        \"that's\":\"that is\",\n",
        "        \"there'd\":\"there would\",\n",
        "        \"there'll\":\"there will\",\n",
        "        \"there're\":\"there are\",\n",
        "        \"there's\":\"there is\",\n",
        "        \"these're\":\"these are\",\n",
        "        \"they'd\":\"they would\",\n",
        "        \"they'll\":\"they will\",\n",
        "        \"they're\":\"they are\",\n",
        "        \"they've\":\"they have\",\n",
        "        \"this's\":\"this is\",\n",
        "        \"those're\":\"those are\",\n",
        "        \"'tis\":\"it is\",\n",
        "        \"'twas\":\"it was\",\n",
        "        \"wanna\":\"want to\",\n",
        "        \"wasn't\":\"was not\",\n",
        "        \"we'd\":\"we would\",\n",
        "        \"we'd've\":\"we would have\",\n",
        "        \"we'll\":\"we will\",\n",
        "        \"we're\":\"we are\",\n",
        "        \"weren't\":\"were not\",\n",
        "        \"we've\":\"we have\",\n",
        "        \"what'd\":\"what did\",\n",
        "        \"what'll\":\"what will\",\n",
        "        \"what're\":\"what are\",\n",
        "        \"what's\":\"what is\",\n",
        "        \"what've\":\"what have\",\n",
        "        \"when's\":\"when is\",\n",
        "        \"where'd\":\"where did\",\n",
        "        \"where're\":\"where are\",\n",
        "        \"where's\":\"where is\",\n",
        "        \"where've\":\"where have\",\n",
        "        \"which's\":\"which is\",\n",
        "        \"who'd\":\"who would\",\n",
        "        \"who'd've\":\"who would have\",\n",
        "        \"who'll\":\"who will\",\n",
        "        \"who're\":\"who are\",\n",
        "        \"who's\":\"who is\",\n",
        "        \"who've\":\"who have\",\n",
        "        \"why'd\":\"why did\",\n",
        "        \"why're\":\"why are\",\n",
        "        \"why's\":\"why is\",\n",
        "        \"won't\":\"will not\",\n",
        "        \"wouldn't\":\"would not\",\n",
        "        \"would've\":\"would have\",\n",
        "        \"y'all\":\"you all\",\n",
        "        \"you'd\":\"you would\",\n",
        "        \"you'll\":\"you will\",\n",
        "        \"you're\":\"you are\",\n",
        "        \"you've\":\"you have\",\n",
        "        \"Whatcha\":\"What are you\",\n",
        "        \"luv\":\"love\",\n",
        "        \"sux\":\"sucks\"\n",
        "        }"
      ],
      "execution_count": null,
      "outputs": []
    },
    {
      "cell_type": "markdown",
      "metadata": {
        "id": "pHVE5rE3DCSH"
      },
      "source": [
        "## 4.1 Loading pre-processed data"
      ]
    },
    {
      "cell_type": "markdown",
      "metadata": {
        "id": "pH-xrpZ6zw-K"
      },
      "source": [
        "We load the preprocessed data from the github. Some final features will be cleaned through our spacy tokenizer."
      ]
    },
    {
      "cell_type": "code",
      "metadata": {
        "id": "XvRpXAJR8ifa"
      },
      "source": [
        "# import cleaner data from Github instead of going through all the steps again\n",
        "df_train = pd.read_csv(\"https://raw.githubusercontent.com/amolinar1/DataMiningProject/main/data/train_2.csv\")\n",
        "df_test = pd.read_csv(\"https://raw.githubusercontent.com/amolinar1/DataMiningProject/main/data/test_2.csv\")"
      ],
      "execution_count": null,
      "outputs": []
    },
    {
      "cell_type": "markdown",
      "metadata": {
        "id": "Qdq4k7rr0RrA"
      },
      "source": [
        "We are going to transform our column 'complete' into tokens. The following two blocks of code contain the affectations and the function (spacy_tokenizer) that allows us to this task. \n",
        "The last tasks we perform and prepare before trying the models are :\n",
        "\n",
        "*   We replaced the following characters '\\x92' by the apostrophe \"'\". We noticed that observing the text column.\n",
        "*   We remove the tags that didn't add any value at the text analysis\n",
        "*   We removed the urls, stopwords, numbers and punctuation\n"
      ]
    },
    {
      "cell_type": "code",
      "metadata": {
        "id": "5AyR2M_5JhLQ"
      },
      "source": [
        "# Define stopwords, punctuation, and numbers\n",
        "stop_words = spacy.lang.en.stop_words.STOP_WORDS\n",
        "punctuations = string.punctuation\n",
        "numbers = '0123456789'\n",
        "remove_mentions = '(@[A-Za-z0–9]+)|([⁰-9A-Za-z \\t])' \n",
        "remove_urls = '(\\w+:\\/\\/\\S+)'\n",
        "# remove_hashtag = '(#[A-Za-z0-9]+)' -> removing hashtags lowered the accuracy"
      ],
      "execution_count": null,
      "outputs": []
    },
    {
      "cell_type": "code",
      "metadata": {
        "id": "sxG2NZvEkr8v"
      },
      "source": [
        "# Create tokenizer function\n",
        "def spacy_tokenizer(sentence):\n",
        "\n",
        "    # Create spacy object\n",
        "    mytokens = sp(sentence)\n",
        "\n",
        "    # Lemmatize each token and convert each token into lowercase\n",
        "    mytokens = [ word.lemma_.lower().strip() if word.lemma_ != \"-PRON-\" else word.lower_ for word in mytokens ]\n",
        "\n",
        "    # Remove stop words and punctuation\n",
        "    mytokens = [ word for word in mytokens if word not in stop_words and word not in punctuations ]\n",
        "    mytokens = [ word for word in mytokens if word not in remove_mentions ]\n",
        "    mytokens = [ word for word in mytokens if word not in remove_urls ]\n",
        "\n",
        "    # Some last characters to remove \n",
        "    mytokens1 = []\n",
        "    for word in mytokens:\n",
        "      for char in word:\n",
        "        if (char in punctuations) or (char in numbers):\n",
        "          word = word.replace(char, '')\n",
        "      if word != '':\n",
        "        mytokens1.append(word)\n",
        "\n",
        "    # Return preprocessed list of tokens\n",
        "    return mytokens1"
      ],
      "execution_count": null,
      "outputs": []
    },
    {
      "cell_type": "markdown",
      "metadata": {
        "id": "oh-1RCfUPyrF"
      },
      "source": [
        "# **5.Splitting the data**"
      ]
    },
    {
      "cell_type": "markdown",
      "metadata": {
        "id": "4Dlq-yhG0xSK"
      },
      "source": [
        "To train our model, we are going to define the features (X_train, X_test) and the target column (y_train). We are going to train the model with the newly created column 'complete' made of the 'keyword' and the 'text' in the training set and then, we will be able to predict the values for y_test with different models."
      ]
    },
    {
      "cell_type": "code",
      "metadata": {
        "id": "XKjfdM04k5bC",
        "colab": {
          "base_uri": "https://localhost:8080/"
        },
        "outputId": "235d0e5a-7735-40c4-c89b-608638d6e126"
      },
      "source": [
        "X_train = df_train[\"complete\"]\n",
        "X_test = df_test[\"complete\"]\n",
        "y_train = df_train['target']\n",
        "X_train"
      ],
      "execution_count": null,
      "outputs": [
        {
          "output_type": "execute_result",
          "data": {
            "text/plain": [
              "0       destroyed black eye 9: a space battle occurred...\n",
              "1       bioterror #world index no longer to transport ...\n",
              "2       windstorm reality training: train falls off el...\n",
              "3       hazardous #taiwan grace: expect that large roc...\n",
              "4       hostage new isis video: isis threatens to head...\n",
              "                              ...                        \n",
              "6466    earthquake #earthquake #shsmo m 1.9 - 15km e o...\n",
              "6467    derail @emiiliexirwin totally agree.she is 23 ...\n",
              "6468    trapped hollywood movie about trapped miners r...\n",
              "6469    weapons friendly reminder that the only countr...\n",
              "6470    buildings on fire buildings are on fire and th...\n",
              "Name: complete, Length: 6471, dtype: object"
            ]
          },
          "metadata": {
            "tags": []
          },
          "execution_count": 8
        }
      ]
    },
    {
      "cell_type": "markdown",
      "metadata": {
        "id": "LC0AaiDcP-Qk"
      },
      "source": [
        "# **6.Models**"
      ]
    },
    {
      "cell_type": "markdown",
      "metadata": {
        "id": "0_ko2ghr8x2H"
      },
      "source": [
        "We began with the bag of words. In order to simplify the structure of the notebook, we have decided to keep only the code with which we built the prediction model ie the TF-IDF that provided the best accuracy. We began to fix the parameters of the TF-IDF."
      ]
    },
    {
      "cell_type": "markdown",
      "metadata": {
        "id": "9we_YlHpQES9"
      },
      "source": [
        "## **6.1 TF-IDF - GridSearchCV**"
      ]
    },
    {
      "cell_type": "markdown",
      "metadata": {
        "id": "sgLLL8KU_Vji"
      },
      "source": [
        "Now, using  the GridSearchCV function, we are going to find which of the four different classifiers (RandomForest, Knn, LogisticRegression, DecisionTree) is the most fitting one for this type of task that would give us the best accuracy score, so we can focus our further research on only one of them."
      ]
    },
    {
      "cell_type": "markdown",
      "metadata": {
        "id": "NGdHi6TGT10e"
      },
      "source": [
        "## 6.1.1 Big GridSearchCV - Pick the best model & hyperparameters"
      ]
    },
    {
      "cell_type": "markdown",
      "metadata": {
        "id": "KCpAuCn4MeRQ"
      },
      "source": [
        "We first set our TF-IDF vectorizer and tune its hyperparameters that are most fitting to our present pre-processed datasets"
      ]
    },
    {
      "cell_type": "code",
      "metadata": {
        "id": "fhZoHFP6k7Z3"
      },
      "source": [
        "tfidf = TfidfVectorizer(tokenizer=spacy_tokenizer, encoding='latin-1', min_df=0.0001, max_df=0.975, ngram_range=(1, 2),  analyzer='word', sublinear_tf=True)"
      ],
      "execution_count": null,
      "outputs": []
    },
    {
      "cell_type": "markdown",
      "metadata": {
        "id": "Xd0z_URRNC8e"
      },
      "source": [
        "Next we create this dictionnary. It simplifies and puts almost everything necessary in one place. The goal is to use one big GridSearchCV on all of our models, in order to find the best one and the range of its best hyperparameters."
      ]
    },
    {
      "cell_type": "code",
      "metadata": {
        "id": "3wGc5iUPUBov"
      },
      "source": [
        "model_params = {\n",
        "    'random_forest': {\n",
        "        'model': RandomForestClassifier(),\n",
        "        'param_grid' : {\n",
        "            'classifier__n_estimators': [3,5],\n",
        "            'classifier__max_features': ['auto', 'sqrt', 'log2']\n",
        "        }\n",
        "    },\n",
        "    'logistic_regression' : {\n",
        "        'model': LogisticRegression(solver='lbfgs', max_iter = 10000, n_jobs=2),\n",
        "        'param_grid': {\n",
        "            'classifier__C' : np.power(10.0, np.arange(-3, 3)),\n",
        "            'classifier__multi_class': ['auto']\n",
        "        }\n",
        "    },\n",
        "    'knn' : {\n",
        "        'model': KNeighborsClassifier(),\n",
        "        'param_grid': {\n",
        "            'classifier__n_neighbors': [3,5],\n",
        "            'classifier__weights': ['uniform', 'distance'],\n",
        "            'classifier__metric': ['euclidean', 'manhattan']\n",
        "          \n",
        "        }\n",
        "    },\n",
        "    'dec_tree' : {\n",
        "        'model': DecisionTreeClassifier(),\n",
        "        'param_grid': {\n",
        "            'classifier__criterion': ['gini', 'entropy'],\n",
        "            'classifier__splitter': ['best'],\n",
        "            'classifier__max_features': ['auto', 'sqrt', 'log2']\n",
        "        }          \n",
        "    }\n",
        "}"
      ],
      "execution_count": null,
      "outputs": []
    },
    {
      "cell_type": "markdown",
      "metadata": {
        "id": "KVIBVqlcODrT"
      },
      "source": [
        "The following piece of code is directly linked to the one above. Here we first create an empty list (scores). Then, we extract all the models from above and compute all the possible combinations of the hyperparameters for each model. \n",
        "\n",
        "We then make sure that the best combination of hyperparameters for each model is stored in our empty scores list, together with the classifier name and the best score that would come out of it.\n",
        "\n",
        "Finally, we transform the scores list into a data frame, so it is more conveninent and structured for us to understand it and do the comparisons."
      ]
    },
    {
      "cell_type": "code",
      "metadata": {
        "colab": {
          "base_uri": "https://localhost:8080/",
          "height": 1000
        },
        "id": "yiuBNUGIUnEq",
        "outputId": "d71be64f-d0c3-4184-8c2f-841cc223e82c"
      },
      "source": [
        "scores = []\n",
        "\n",
        "for model_name, mp in model_params.items():\n",
        "  big_pipe = Pipeline([('vectorizer', tfidf),\n",
        "                 ('classifier', mp['model'])])\n",
        "  clf =  GridSearchCV(big_pipe, mp['param_grid'], cv=3, \n",
        "                      return_train_score=False, \n",
        "                      verbose=3)\n",
        "  clf.fit(X_train, y_train)\n",
        "  scores.append({\n",
        "      'model': model_name,\n",
        "      'best_score': clf.best_score_,\n",
        "      'best_params': clf.best_params_\n",
        "      })\n",
        "    \n",
        "df_models = pd.DataFrame(scores,columns=['model','best_score','best_params'])\n",
        "df_models"
      ],
      "execution_count": null,
      "outputs": [
        {
          "output_type": "stream",
          "text": [
            "Fitting 3 folds for each of 6 candidates, totalling 18 fits\n",
            "[CV] classifier__max_features=auto, classifier__n_estimators=3 .......\n"
          ],
          "name": "stdout"
        },
        {
          "output_type": "stream",
          "text": [
            "[Parallel(n_jobs=1)]: Using backend SequentialBackend with 1 concurrent workers.\n"
          ],
          "name": "stderr"
        },
        {
          "output_type": "stream",
          "text": [
            "[CV]  classifier__max_features=auto, classifier__n_estimators=3, score=0.715, total= 1.1min\n",
            "[CV] classifier__max_features=auto, classifier__n_estimators=3 .......\n"
          ],
          "name": "stdout"
        },
        {
          "output_type": "stream",
          "text": [
            "[Parallel(n_jobs=1)]: Done   1 out of   1 | elapsed:  1.1min remaining:    0.0s\n"
          ],
          "name": "stderr"
        },
        {
          "output_type": "stream",
          "text": [
            "[CV]  classifier__max_features=auto, classifier__n_estimators=3, score=0.715, total= 1.1min\n",
            "[CV] classifier__max_features=auto, classifier__n_estimators=3 .......\n"
          ],
          "name": "stdout"
        },
        {
          "output_type": "stream",
          "text": [
            "[Parallel(n_jobs=1)]: Done   2 out of   2 | elapsed:  2.2min remaining:    0.0s\n"
          ],
          "name": "stderr"
        },
        {
          "output_type": "stream",
          "text": [
            "[CV]  classifier__max_features=auto, classifier__n_estimators=3, score=0.744, total= 1.1min\n",
            "[CV] classifier__max_features=auto, classifier__n_estimators=5 .......\n",
            "[CV]  classifier__max_features=auto, classifier__n_estimators=5, score=0.730, total= 1.1min\n",
            "[CV] classifier__max_features=auto, classifier__n_estimators=5 .......\n",
            "[CV]  classifier__max_features=auto, classifier__n_estimators=5, score=0.756, total= 1.1min\n",
            "[CV] classifier__max_features=auto, classifier__n_estimators=5 .......\n",
            "[CV]  classifier__max_features=auto, classifier__n_estimators=5, score=0.732, total= 1.1min\n",
            "[CV] classifier__max_features=sqrt, classifier__n_estimators=3 .......\n",
            "[CV]  classifier__max_features=sqrt, classifier__n_estimators=3, score=0.720, total= 1.1min\n",
            "[CV] classifier__max_features=sqrt, classifier__n_estimators=3 .......\n",
            "[CV]  classifier__max_features=sqrt, classifier__n_estimators=3, score=0.730, total= 1.1min\n",
            "[CV] classifier__max_features=sqrt, classifier__n_estimators=3 .......\n",
            "[CV]  classifier__max_features=sqrt, classifier__n_estimators=3, score=0.742, total= 1.1min\n",
            "[CV] classifier__max_features=sqrt, classifier__n_estimators=5 .......\n",
            "[CV]  classifier__max_features=sqrt, classifier__n_estimators=5, score=0.746, total= 1.1min\n",
            "[CV] classifier__max_features=sqrt, classifier__n_estimators=5 .......\n",
            "[CV]  classifier__max_features=sqrt, classifier__n_estimators=5, score=0.733, total= 1.1min\n",
            "[CV] classifier__max_features=sqrt, classifier__n_estimators=5 .......\n",
            "[CV]  classifier__max_features=sqrt, classifier__n_estimators=5, score=0.745, total= 1.1min\n",
            "[CV] classifier__max_features=log2, classifier__n_estimators=3 .......\n",
            "[CV]  classifier__max_features=log2, classifier__n_estimators=3, score=0.703, total= 1.1min\n",
            "[CV] classifier__max_features=log2, classifier__n_estimators=3 .......\n",
            "[CV]  classifier__max_features=log2, classifier__n_estimators=3, score=0.703, total= 1.1min\n",
            "[CV] classifier__max_features=log2, classifier__n_estimators=3 .......\n",
            "[CV]  classifier__max_features=log2, classifier__n_estimators=3, score=0.704, total= 1.1min\n",
            "[CV] classifier__max_features=log2, classifier__n_estimators=5 .......\n",
            "[CV]  classifier__max_features=log2, classifier__n_estimators=5, score=0.719, total= 1.1min\n",
            "[CV] classifier__max_features=log2, classifier__n_estimators=5 .......\n",
            "[CV]  classifier__max_features=log2, classifier__n_estimators=5, score=0.717, total= 1.1min\n",
            "[CV] classifier__max_features=log2, classifier__n_estimators=5 .......\n",
            "[CV]  classifier__max_features=log2, classifier__n_estimators=5, score=0.715, total= 1.1min\n"
          ],
          "name": "stdout"
        },
        {
          "output_type": "stream",
          "text": [
            "[Parallel(n_jobs=1)]: Done  18 out of  18 | elapsed: 20.4min finished\n"
          ],
          "name": "stderr"
        },
        {
          "output_type": "stream",
          "text": [
            "Fitting 3 folds for each of 6 candidates, totalling 18 fits\n",
            "[CV] classifier__C=0.001, classifier__multi_class=auto ...............\n"
          ],
          "name": "stdout"
        },
        {
          "output_type": "stream",
          "text": [
            "[Parallel(n_jobs=1)]: Using backend SequentialBackend with 1 concurrent workers.\n"
          ],
          "name": "stderr"
        },
        {
          "output_type": "stream",
          "text": [
            "[CV]  classifier__C=0.001, classifier__multi_class=auto, score=0.572, total= 1.1min\n",
            "[CV] classifier__C=0.001, classifier__multi_class=auto ...............\n"
          ],
          "name": "stdout"
        },
        {
          "output_type": "stream",
          "text": [
            "[Parallel(n_jobs=1)]: Done   1 out of   1 | elapsed:  1.1min remaining:    0.0s\n"
          ],
          "name": "stderr"
        },
        {
          "output_type": "stream",
          "text": [
            "[CV]  classifier__C=0.001, classifier__multi_class=auto, score=0.572, total= 1.1min\n",
            "[CV] classifier__C=0.001, classifier__multi_class=auto ...............\n"
          ],
          "name": "stdout"
        },
        {
          "output_type": "stream",
          "text": [
            "[Parallel(n_jobs=1)]: Done   2 out of   2 | elapsed:  2.3min remaining:    0.0s\n"
          ],
          "name": "stderr"
        },
        {
          "output_type": "stream",
          "text": [
            "[CV]  classifier__C=0.001, classifier__multi_class=auto, score=0.572, total= 1.1min\n",
            "[CV] classifier__C=0.01, classifier__multi_class=auto ................\n",
            "[CV]  classifier__C=0.01, classifier__multi_class=auto, score=0.572, total= 1.1min\n",
            "[CV] classifier__C=0.01, classifier__multi_class=auto ................\n",
            "[CV]  classifier__C=0.01, classifier__multi_class=auto, score=0.572, total= 1.1min\n",
            "[CV] classifier__C=0.01, classifier__multi_class=auto ................\n",
            "[CV]  classifier__C=0.01, classifier__multi_class=auto, score=0.572, total= 1.1min\n",
            "[CV] classifier__C=0.1, classifier__multi_class=auto .................\n",
            "[CV]  classifier__C=0.1, classifier__multi_class=auto, score=0.663, total= 1.1min\n",
            "[CV] classifier__C=0.1, classifier__multi_class=auto .................\n",
            "[CV]  classifier__C=0.1, classifier__multi_class=auto, score=0.663, total= 1.1min\n",
            "[CV] classifier__C=0.1, classifier__multi_class=auto .................\n",
            "[CV]  classifier__C=0.1, classifier__multi_class=auto, score=0.662, total= 1.1min\n",
            "[CV] classifier__C=1.0, classifier__multi_class=auto .................\n",
            "[CV]  classifier__C=1.0, classifier__multi_class=auto, score=0.777, total= 1.1min\n",
            "[CV] classifier__C=1.0, classifier__multi_class=auto .................\n",
            "[CV]  classifier__C=1.0, classifier__multi_class=auto, score=0.805, total= 1.1min\n",
            "[CV] classifier__C=1.0, classifier__multi_class=auto .................\n",
            "[CV]  classifier__C=1.0, classifier__multi_class=auto, score=0.796, total= 1.1min\n",
            "[CV] classifier__C=10.0, classifier__multi_class=auto ................\n",
            "[CV]  classifier__C=10.0, classifier__multi_class=auto, score=0.776, total= 1.1min\n",
            "[CV] classifier__C=10.0, classifier__multi_class=auto ................\n",
            "[CV]  classifier__C=10.0, classifier__multi_class=auto, score=0.795, total= 1.1min\n",
            "[CV] classifier__C=10.0, classifier__multi_class=auto ................\n",
            "[CV]  classifier__C=10.0, classifier__multi_class=auto, score=0.796, total= 1.1min\n",
            "[CV] classifier__C=100.0, classifier__multi_class=auto ...............\n",
            "[CV]  classifier__C=100.0, classifier__multi_class=auto, score=0.770, total= 1.1min\n",
            "[CV] classifier__C=100.0, classifier__multi_class=auto ...............\n",
            "[CV]  classifier__C=100.0, classifier__multi_class=auto, score=0.793, total= 1.1min\n",
            "[CV] classifier__C=100.0, classifier__multi_class=auto ...............\n",
            "[CV]  classifier__C=100.0, classifier__multi_class=auto, score=0.793, total= 1.1min\n"
          ],
          "name": "stdout"
        },
        {
          "output_type": "stream",
          "text": [
            "[Parallel(n_jobs=1)]: Done  18 out of  18 | elapsed: 20.4min finished\n"
          ],
          "name": "stderr"
        },
        {
          "output_type": "stream",
          "text": [
            "Fitting 3 folds for each of 8 candidates, totalling 24 fits\n",
            "[CV] classifier__metric=euclidean, classifier__n_neighbors=3, classifier__weights=uniform \n"
          ],
          "name": "stdout"
        },
        {
          "output_type": "stream",
          "text": [
            "[Parallel(n_jobs=1)]: Using backend SequentialBackend with 1 concurrent workers.\n"
          ],
          "name": "stderr"
        },
        {
          "output_type": "stream",
          "text": [
            "[CV]  classifier__metric=euclidean, classifier__n_neighbors=3, classifier__weights=uniform, score=0.736, total= 1.1min\n",
            "[CV] classifier__metric=euclidean, classifier__n_neighbors=3, classifier__weights=uniform \n"
          ],
          "name": "stdout"
        },
        {
          "output_type": "stream",
          "text": [
            "[Parallel(n_jobs=1)]: Done   1 out of   1 | elapsed:  1.1min remaining:    0.0s\n"
          ],
          "name": "stderr"
        },
        {
          "output_type": "stream",
          "text": [
            "[CV]  classifier__metric=euclidean, classifier__n_neighbors=3, classifier__weights=uniform, score=0.753, total= 1.1min\n",
            "[CV] classifier__metric=euclidean, classifier__n_neighbors=3, classifier__weights=uniform \n"
          ],
          "name": "stdout"
        },
        {
          "output_type": "stream",
          "text": [
            "[Parallel(n_jobs=1)]: Done   2 out of   2 | elapsed:  2.3min remaining:    0.0s\n"
          ],
          "name": "stderr"
        },
        {
          "output_type": "stream",
          "text": [
            "[CV]  classifier__metric=euclidean, classifier__n_neighbors=3, classifier__weights=uniform, score=0.748, total= 1.1min\n",
            "[CV] classifier__metric=euclidean, classifier__n_neighbors=3, classifier__weights=distance \n",
            "[CV]  classifier__metric=euclidean, classifier__n_neighbors=3, classifier__weights=distance, score=0.736, total= 1.1min\n",
            "[CV] classifier__metric=euclidean, classifier__n_neighbors=3, classifier__weights=distance \n",
            "[CV]  classifier__metric=euclidean, classifier__n_neighbors=3, classifier__weights=distance, score=0.752, total= 1.1min\n",
            "[CV] classifier__metric=euclidean, classifier__n_neighbors=3, classifier__weights=distance \n",
            "[CV]  classifier__metric=euclidean, classifier__n_neighbors=3, classifier__weights=distance, score=0.750, total= 1.1min\n",
            "[CV] classifier__metric=euclidean, classifier__n_neighbors=5, classifier__weights=uniform \n",
            "[CV]  classifier__metric=euclidean, classifier__n_neighbors=5, classifier__weights=uniform, score=0.748, total= 1.1min\n",
            "[CV] classifier__metric=euclidean, classifier__n_neighbors=5, classifier__weights=uniform \n",
            "[CV]  classifier__metric=euclidean, classifier__n_neighbors=5, classifier__weights=uniform, score=0.754, total= 1.1min\n",
            "[CV] classifier__metric=euclidean, classifier__n_neighbors=5, classifier__weights=uniform \n",
            "[CV]  classifier__metric=euclidean, classifier__n_neighbors=5, classifier__weights=uniform, score=0.753, total= 1.2min\n",
            "[CV] classifier__metric=euclidean, classifier__n_neighbors=5, classifier__weights=distance \n",
            "[CV]  classifier__metric=euclidean, classifier__n_neighbors=5, classifier__weights=distance, score=0.753, total= 1.2min\n",
            "[CV] classifier__metric=euclidean, classifier__n_neighbors=5, classifier__weights=distance \n",
            "[CV]  classifier__metric=euclidean, classifier__n_neighbors=5, classifier__weights=distance, score=0.758, total= 1.1min\n",
            "[CV] classifier__metric=euclidean, classifier__n_neighbors=5, classifier__weights=distance \n",
            "[CV]  classifier__metric=euclidean, classifier__n_neighbors=5, classifier__weights=distance, score=0.755, total= 1.1min\n",
            "[CV] classifier__metric=manhattan, classifier__n_neighbors=3, classifier__weights=uniform \n",
            "[CV]  classifier__metric=manhattan, classifier__n_neighbors=3, classifier__weights=uniform, score=0.685, total= 1.2min\n",
            "[CV] classifier__metric=manhattan, classifier__n_neighbors=3, classifier__weights=uniform \n",
            "[CV]  classifier__metric=manhattan, classifier__n_neighbors=3, classifier__weights=uniform, score=0.672, total= 1.2min\n",
            "[CV] classifier__metric=manhattan, classifier__n_neighbors=3, classifier__weights=uniform \n",
            "[CV]  classifier__metric=manhattan, classifier__n_neighbors=3, classifier__weights=uniform, score=0.677, total= 1.1min\n",
            "[CV] classifier__metric=manhattan, classifier__n_neighbors=3, classifier__weights=distance \n",
            "[CV]  classifier__metric=manhattan, classifier__n_neighbors=3, classifier__weights=distance, score=0.703, total= 1.1min\n",
            "[CV] classifier__metric=manhattan, classifier__n_neighbors=3, classifier__weights=distance \n",
            "[CV]  classifier__metric=manhattan, classifier__n_neighbors=3, classifier__weights=distance, score=0.683, total= 1.1min\n",
            "[CV] classifier__metric=manhattan, classifier__n_neighbors=3, classifier__weights=distance \n",
            "[CV]  classifier__metric=manhattan, classifier__n_neighbors=3, classifier__weights=distance, score=0.688, total= 1.2min\n",
            "[CV] classifier__metric=manhattan, classifier__n_neighbors=5, classifier__weights=uniform \n",
            "[CV]  classifier__metric=manhattan, classifier__n_neighbors=5, classifier__weights=uniform, score=0.666, total= 1.2min\n",
            "[CV] classifier__metric=manhattan, classifier__n_neighbors=5, classifier__weights=uniform \n",
            "[CV]  classifier__metric=manhattan, classifier__n_neighbors=5, classifier__weights=uniform, score=0.662, total= 1.2min\n",
            "[CV] classifier__metric=manhattan, classifier__n_neighbors=5, classifier__weights=uniform \n",
            "[CV]  classifier__metric=manhattan, classifier__n_neighbors=5, classifier__weights=uniform, score=0.655, total= 1.1min\n",
            "[CV] classifier__metric=manhattan, classifier__n_neighbors=5, classifier__weights=distance \n",
            "[CV]  classifier__metric=manhattan, classifier__n_neighbors=5, classifier__weights=distance, score=0.684, total= 1.2min\n",
            "[CV] classifier__metric=manhattan, classifier__n_neighbors=5, classifier__weights=distance \n",
            "[CV]  classifier__metric=manhattan, classifier__n_neighbors=5, classifier__weights=distance, score=0.676, total= 1.2min\n"
          ],
          "name": "stdout"
        },
        {
          "output_type": "stream",
          "text": [
            "[Parallel(n_jobs=1)]: Done  24 out of  24 | elapsed: 27.5min finished\n"
          ],
          "name": "stderr"
        },
        {
          "output_type": "stream",
          "text": [
            "Fitting 3 folds for each of 6 candidates, totalling 18 fits\n",
            "[CV] classifier__criterion=gini, classifier__max_features=auto, classifier__splitter=best \n"
          ],
          "name": "stdout"
        },
        {
          "output_type": "stream",
          "text": [
            "[Parallel(n_jobs=1)]: Using backend SequentialBackend with 1 concurrent workers.\n"
          ],
          "name": "stderr"
        },
        {
          "output_type": "stream",
          "text": [
            "[CV]  classifier__criterion=gini, classifier__max_features=auto, classifier__splitter=best, score=0.702, total= 1.1min\n",
            "[CV] classifier__criterion=gini, classifier__max_features=auto, classifier__splitter=best \n"
          ],
          "name": "stdout"
        },
        {
          "output_type": "stream",
          "text": [
            "[Parallel(n_jobs=1)]: Done   1 out of   1 | elapsed:  1.1min remaining:    0.0s\n"
          ],
          "name": "stderr"
        },
        {
          "output_type": "stream",
          "text": [
            "[CV]  classifier__criterion=gini, classifier__max_features=auto, classifier__splitter=best, score=0.712, total= 1.1min\n",
            "[CV] classifier__criterion=gini, classifier__max_features=auto, classifier__splitter=best \n"
          ],
          "name": "stdout"
        },
        {
          "output_type": "stream",
          "text": [
            "[Parallel(n_jobs=1)]: Done   2 out of   2 | elapsed:  2.3min remaining:    0.0s\n"
          ],
          "name": "stderr"
        },
        {
          "output_type": "stream",
          "text": [
            "[CV]  classifier__criterion=gini, classifier__max_features=auto, classifier__splitter=best, score=0.697, total= 1.1min\n",
            "[CV] classifier__criterion=gini, classifier__max_features=sqrt, classifier__splitter=best \n",
            "[CV]  classifier__criterion=gini, classifier__max_features=sqrt, classifier__splitter=best, score=0.677, total= 1.1min\n",
            "[CV] classifier__criterion=gini, classifier__max_features=sqrt, classifier__splitter=best \n",
            "[CV]  classifier__criterion=gini, classifier__max_features=sqrt, classifier__splitter=best, score=0.706, total= 1.1min\n",
            "[CV] classifier__criterion=gini, classifier__max_features=sqrt, classifier__splitter=best \n",
            "[CV]  classifier__criterion=gini, classifier__max_features=sqrt, classifier__splitter=best, score=0.702, total= 1.1min\n",
            "[CV] classifier__criterion=gini, classifier__max_features=log2, classifier__splitter=best \n",
            "[CV]  classifier__criterion=gini, classifier__max_features=log2, classifier__splitter=best, score=0.690, total= 1.1min\n",
            "[CV] classifier__criterion=gini, classifier__max_features=log2, classifier__splitter=best \n",
            "[CV]  classifier__criterion=gini, classifier__max_features=log2, classifier__splitter=best, score=0.670, total= 1.1min\n",
            "[CV] classifier__criterion=gini, classifier__max_features=log2, classifier__splitter=best \n",
            "[CV]  classifier__criterion=gini, classifier__max_features=log2, classifier__splitter=best, score=0.686, total= 1.1min\n",
            "[CV] classifier__criterion=entropy, classifier__max_features=auto, classifier__splitter=best \n",
            "[CV]  classifier__criterion=entropy, classifier__max_features=auto, classifier__splitter=best, score=0.715, total= 1.1min\n",
            "[CV] classifier__criterion=entropy, classifier__max_features=auto, classifier__splitter=best \n",
            "[CV]  classifier__criterion=entropy, classifier__max_features=auto, classifier__splitter=best, score=0.697, total= 1.1min\n",
            "[CV] classifier__criterion=entropy, classifier__max_features=auto, classifier__splitter=best \n",
            "[CV]  classifier__criterion=entropy, classifier__max_features=auto, classifier__splitter=best, score=0.713, total= 1.2min\n",
            "[CV] classifier__criterion=entropy, classifier__max_features=sqrt, classifier__splitter=best \n",
            "[CV]  classifier__criterion=entropy, classifier__max_features=sqrt, classifier__splitter=best, score=0.716, total= 1.1min\n",
            "[CV] classifier__criterion=entropy, classifier__max_features=sqrt, classifier__splitter=best \n",
            "[CV]  classifier__criterion=entropy, classifier__max_features=sqrt, classifier__splitter=best, score=0.708, total= 1.1min\n",
            "[CV] classifier__criterion=entropy, classifier__max_features=sqrt, classifier__splitter=best \n",
            "[CV]  classifier__criterion=entropy, classifier__max_features=sqrt, classifier__splitter=best, score=0.718, total= 1.1min\n",
            "[CV] classifier__criterion=entropy, classifier__max_features=log2, classifier__splitter=best \n",
            "[CV]  classifier__criterion=entropy, classifier__max_features=log2, classifier__splitter=best, score=0.684, total= 1.1min\n",
            "[CV] classifier__criterion=entropy, classifier__max_features=log2, classifier__splitter=best \n",
            "[CV]  classifier__criterion=entropy, classifier__max_features=log2, classifier__splitter=best, score=0.692, total= 1.1min\n",
            "[CV] classifier__criterion=entropy, classifier__max_features=log2, classifier__splitter=best \n",
            "[CV]  classifier__criterion=entropy, classifier__max_features=log2, classifier__splitter=best, score=0.694, total= 1.1min\n"
          ],
          "name": "stdout"
        },
        {
          "output_type": "stream",
          "text": [
            "[Parallel(n_jobs=1)]: Done  18 out of  18 | elapsed: 20.3min finished\n"
          ],
          "name": "stderr"
        },
        {
          "output_type": "execute_result",
          "data": {
            "text/html": [
              "<div>\n",
              "<style scoped>\n",
              "    .dataframe tbody tr th:only-of-type {\n",
              "        vertical-align: middle;\n",
              "    }\n",
              "\n",
              "    .dataframe tbody tr th {\n",
              "        vertical-align: top;\n",
              "    }\n",
              "\n",
              "    .dataframe thead th {\n",
              "        text-align: right;\n",
              "    }\n",
              "</style>\n",
              "<table border=\"1\" class=\"dataframe\">\n",
              "  <thead>\n",
              "    <tr style=\"text-align: right;\">\n",
              "      <th></th>\n",
              "      <th>model</th>\n",
              "      <th>best_score</th>\n",
              "      <th>best_params</th>\n",
              "    </tr>\n",
              "  </thead>\n",
              "  <tbody>\n",
              "    <tr>\n",
              "      <th>0</th>\n",
              "      <td>random_forest</td>\n",
              "      <td>0.741153</td>\n",
              "      <td>{'classifier__max_features': 'sqrt', 'classifi...</td>\n",
              "    </tr>\n",
              "    <tr>\n",
              "      <th>1</th>\n",
              "      <td>logistic_regression</td>\n",
              "      <td>0.792613</td>\n",
              "      <td>{'classifier__C': 1.0, 'classifier__multi_clas...</td>\n",
              "    </tr>\n",
              "    <tr>\n",
              "      <th>2</th>\n",
              "      <td>knn</td>\n",
              "      <td>0.755370</td>\n",
              "      <td>{'classifier__metric': 'euclidean', 'classifie...</td>\n",
              "    </tr>\n",
              "    <tr>\n",
              "      <th>3</th>\n",
              "      <td>dec_tree</td>\n",
              "      <td>0.714109</td>\n",
              "      <td>{'classifier__criterion': 'entropy', 'classifi...</td>\n",
              "    </tr>\n",
              "  </tbody>\n",
              "</table>\n",
              "</div>"
            ],
            "text/plain": [
              "                 model  ...                                        best_params\n",
              "0        random_forest  ...  {'classifier__max_features': 'sqrt', 'classifi...\n",
              "1  logistic_regression  ...  {'classifier__C': 1.0, 'classifier__multi_clas...\n",
              "2                  knn  ...  {'classifier__metric': 'euclidean', 'classifie...\n",
              "3             dec_tree  ...  {'classifier__criterion': 'entropy', 'classifi...\n",
              "\n",
              "[4 rows x 3 columns]"
            ]
          },
          "metadata": {
            "tags": []
          },
          "execution_count": 40
        }
      ]
    },
    {
      "cell_type": "markdown",
      "metadata": {
        "id": "x0mUZvCNBFxR"
      },
      "source": [
        "As you can see on the table above, the model that gave the best accuracy score on the training set is the LogisticRegression. We can also see the range for each hyperparameter, so that we can explore them even further and optimize them. This is why the following GridSearchCV focuses only on this classifier some specific hyperparameters. \r\n"
      ]
    },
    {
      "cell_type": "markdown",
      "metadata": {
        "id": "IgMtq6yhQSIM"
      },
      "source": [
        "### 6.2 Logistic Regression - GridSearchCV"
      ]
    },
    {
      "cell_type": "markdown",
      "metadata": {
        "id": "mk1FtkWpQ8PY"
      },
      "source": [
        "\n",
        "In the following code, we are going to find the best hyperparameters for this particular data cleaning and with the TF-IDF as we defined it above."
      ]
    },
    {
      "cell_type": "code",
      "metadata": {
        "id": "ru0oKePY8AK8",
        "colab": {
          "base_uri": "https://localhost:8080/"
        },
        "outputId": "9ef67a47-b8de-4da7-ffb3-1ce901984778"
      },
      "source": [
        "# After seeing that LogReg is the better and more apporpriate model, \n",
        "# we go on to examine it even further in order to find its best hyperparameters\n",
        "\n",
        "log_reg = LogisticRegression(random_state=72, n_jobs=2, max_iter=5000)\n",
        "\n",
        "param_grid = [\n",
        "              {\n",
        "                  'classifier__penalty' : ['l2'],\n",
        "               'classifier__C' : np.logspace(-4, 4, 20),\n",
        "               'classifier__solver' : ['lbfgs'],\n",
        "               'classifier__multi_class': ['auto']}\n",
        "              ]\n",
        "\n",
        "pipe = Pipeline([('vectorizer', tfidf),\n",
        "                 ('classifier', log_reg)])\n",
        "clf = GridSearchCV(pipe, param_grid, verbose=3)\n",
        "clf.fit(X_train, y_train)"
      ],
      "execution_count": null,
      "outputs": [
        {
          "output_type": "stream",
          "text": [
            "Fitting 5 folds for each of 20 candidates, totalling 100 fits\n",
            "[CV] classifier__C=0.0001, classifier__multi_class=auto, classifier__penalty=l2, classifier__solver=lbfgs \n"
          ],
          "name": "stdout"
        },
        {
          "output_type": "stream",
          "text": [
            "[Parallel(n_jobs=1)]: Using backend SequentialBackend with 1 concurrent workers.\n"
          ],
          "name": "stderr"
        },
        {
          "output_type": "stream",
          "text": [
            "[CV]  classifier__C=0.0001, classifier__multi_class=auto, classifier__penalty=l2, classifier__solver=lbfgs, score=0.572, total= 1.2min\n",
            "[CV] classifier__C=0.0001, classifier__multi_class=auto, classifier__penalty=l2, classifier__solver=lbfgs \n"
          ],
          "name": "stdout"
        },
        {
          "output_type": "stream",
          "text": [
            "[Parallel(n_jobs=1)]: Done   1 out of   1 | elapsed:  1.2min remaining:    0.0s\n"
          ],
          "name": "stderr"
        },
        {
          "output_type": "stream",
          "text": [
            "[CV]  classifier__C=0.0001, classifier__multi_class=auto, classifier__penalty=l2, classifier__solver=lbfgs, score=0.572, total= 1.1min\n",
            "[CV] classifier__C=0.0001, classifier__multi_class=auto, classifier__penalty=l2, classifier__solver=lbfgs \n"
          ],
          "name": "stdout"
        },
        {
          "output_type": "stream",
          "text": [
            "[Parallel(n_jobs=1)]: Done   2 out of   2 | elapsed:  2.3min remaining:    0.0s\n"
          ],
          "name": "stderr"
        },
        {
          "output_type": "stream",
          "text": [
            "[CV]  classifier__C=0.0001, classifier__multi_class=auto, classifier__penalty=l2, classifier__solver=lbfgs, score=0.572, total= 1.2min\n",
            "[CV] classifier__C=0.0001, classifier__multi_class=auto, classifier__penalty=l2, classifier__solver=lbfgs \n",
            "[CV]  classifier__C=0.0001, classifier__multi_class=auto, classifier__penalty=l2, classifier__solver=lbfgs, score=0.572, total= 1.1min\n",
            "[CV] classifier__C=0.0001, classifier__multi_class=auto, classifier__penalty=l2, classifier__solver=lbfgs \n",
            "[CV]  classifier__C=0.0001, classifier__multi_class=auto, classifier__penalty=l2, classifier__solver=lbfgs, score=0.572, total= 1.2min\n",
            "[CV] classifier__C=0.00026366508987303583, classifier__multi_class=auto, classifier__penalty=l2, classifier__solver=lbfgs \n",
            "[CV]  classifier__C=0.00026366508987303583, classifier__multi_class=auto, classifier__penalty=l2, classifier__solver=lbfgs, score=0.572, total= 1.1min\n",
            "[CV] classifier__C=0.00026366508987303583, classifier__multi_class=auto, classifier__penalty=l2, classifier__solver=lbfgs \n",
            "[CV]  classifier__C=0.00026366508987303583, classifier__multi_class=auto, classifier__penalty=l2, classifier__solver=lbfgs, score=0.572, total= 1.2min\n",
            "[CV] classifier__C=0.00026366508987303583, classifier__multi_class=auto, classifier__penalty=l2, classifier__solver=lbfgs \n",
            "[CV]  classifier__C=0.00026366508987303583, classifier__multi_class=auto, classifier__penalty=l2, classifier__solver=lbfgs, score=0.572, total= 1.2min\n",
            "[CV] classifier__C=0.00026366508987303583, classifier__multi_class=auto, classifier__penalty=l2, classifier__solver=lbfgs \n",
            "[CV]  classifier__C=0.00026366508987303583, classifier__multi_class=auto, classifier__penalty=l2, classifier__solver=lbfgs, score=0.572, total= 1.2min\n",
            "[CV] classifier__C=0.00026366508987303583, classifier__multi_class=auto, classifier__penalty=l2, classifier__solver=lbfgs \n",
            "[CV]  classifier__C=0.00026366508987303583, classifier__multi_class=auto, classifier__penalty=l2, classifier__solver=lbfgs, score=0.572, total= 1.2min\n",
            "[CV] classifier__C=0.0006951927961775605, classifier__multi_class=auto, classifier__penalty=l2, classifier__solver=lbfgs \n",
            "[CV]  classifier__C=0.0006951927961775605, classifier__multi_class=auto, classifier__penalty=l2, classifier__solver=lbfgs, score=0.572, total= 1.1min\n",
            "[CV] classifier__C=0.0006951927961775605, classifier__multi_class=auto, classifier__penalty=l2, classifier__solver=lbfgs \n",
            "[CV]  classifier__C=0.0006951927961775605, classifier__multi_class=auto, classifier__penalty=l2, classifier__solver=lbfgs, score=0.572, total= 1.2min\n",
            "[CV] classifier__C=0.0006951927961775605, classifier__multi_class=auto, classifier__penalty=l2, classifier__solver=lbfgs \n",
            "[CV]  classifier__C=0.0006951927961775605, classifier__multi_class=auto, classifier__penalty=l2, classifier__solver=lbfgs, score=0.572, total= 1.2min\n",
            "[CV] classifier__C=0.0006951927961775605, classifier__multi_class=auto, classifier__penalty=l2, classifier__solver=lbfgs \n",
            "[CV]  classifier__C=0.0006951927961775605, classifier__multi_class=auto, classifier__penalty=l2, classifier__solver=lbfgs, score=0.572, total= 1.1min\n",
            "[CV] classifier__C=0.0006951927961775605, classifier__multi_class=auto, classifier__penalty=l2, classifier__solver=lbfgs \n",
            "[CV]  classifier__C=0.0006951927961775605, classifier__multi_class=auto, classifier__penalty=l2, classifier__solver=lbfgs, score=0.572, total= 1.1min\n",
            "[CV] classifier__C=0.0018329807108324356, classifier__multi_class=auto, classifier__penalty=l2, classifier__solver=lbfgs \n",
            "[CV]  classifier__C=0.0018329807108324356, classifier__multi_class=auto, classifier__penalty=l2, classifier__solver=lbfgs, score=0.572, total= 1.1min\n",
            "[CV] classifier__C=0.0018329807108324356, classifier__multi_class=auto, classifier__penalty=l2, classifier__solver=lbfgs \n",
            "[CV]  classifier__C=0.0018329807108324356, classifier__multi_class=auto, classifier__penalty=l2, classifier__solver=lbfgs, score=0.572, total= 1.1min\n",
            "[CV] classifier__C=0.0018329807108324356, classifier__multi_class=auto, classifier__penalty=l2, classifier__solver=lbfgs \n",
            "[CV]  classifier__C=0.0018329807108324356, classifier__multi_class=auto, classifier__penalty=l2, classifier__solver=lbfgs, score=0.572, total= 1.1min\n",
            "[CV] classifier__C=0.0018329807108324356, classifier__multi_class=auto, classifier__penalty=l2, classifier__solver=lbfgs \n",
            "[CV]  classifier__C=0.0018329807108324356, classifier__multi_class=auto, classifier__penalty=l2, classifier__solver=lbfgs, score=0.572, total= 1.1min\n",
            "[CV] classifier__C=0.0018329807108324356, classifier__multi_class=auto, classifier__penalty=l2, classifier__solver=lbfgs \n",
            "[CV]  classifier__C=0.0018329807108324356, classifier__multi_class=auto, classifier__penalty=l2, classifier__solver=lbfgs, score=0.572, total= 1.1min\n",
            "[CV] classifier__C=0.004832930238571752, classifier__multi_class=auto, classifier__penalty=l2, classifier__solver=lbfgs \n",
            "[CV]  classifier__C=0.004832930238571752, classifier__multi_class=auto, classifier__penalty=l2, classifier__solver=lbfgs, score=0.572, total= 1.1min\n",
            "[CV] classifier__C=0.004832930238571752, classifier__multi_class=auto, classifier__penalty=l2, classifier__solver=lbfgs \n",
            "[CV]  classifier__C=0.004832930238571752, classifier__multi_class=auto, classifier__penalty=l2, classifier__solver=lbfgs, score=0.572, total= 1.1min\n",
            "[CV] classifier__C=0.004832930238571752, classifier__multi_class=auto, classifier__penalty=l2, classifier__solver=lbfgs \n",
            "[CV]  classifier__C=0.004832930238571752, classifier__multi_class=auto, classifier__penalty=l2, classifier__solver=lbfgs, score=0.572, total= 1.1min\n",
            "[CV] classifier__C=0.004832930238571752, classifier__multi_class=auto, classifier__penalty=l2, classifier__solver=lbfgs \n",
            "[CV]  classifier__C=0.004832930238571752, classifier__multi_class=auto, classifier__penalty=l2, classifier__solver=lbfgs, score=0.572, total= 1.1min\n",
            "[CV] classifier__C=0.004832930238571752, classifier__multi_class=auto, classifier__penalty=l2, classifier__solver=lbfgs \n",
            "[CV]  classifier__C=0.004832930238571752, classifier__multi_class=auto, classifier__penalty=l2, classifier__solver=lbfgs, score=0.572, total= 1.1min\n",
            "[CV] classifier__C=0.012742749857031334, classifier__multi_class=auto, classifier__penalty=l2, classifier__solver=lbfgs \n",
            "[CV]  classifier__C=0.012742749857031334, classifier__multi_class=auto, classifier__penalty=l2, classifier__solver=lbfgs, score=0.572, total= 1.2min\n",
            "[CV] classifier__C=0.012742749857031334, classifier__multi_class=auto, classifier__penalty=l2, classifier__solver=lbfgs \n",
            "[CV]  classifier__C=0.012742749857031334, classifier__multi_class=auto, classifier__penalty=l2, classifier__solver=lbfgs, score=0.572, total= 1.1min\n",
            "[CV] classifier__C=0.012742749857031334, classifier__multi_class=auto, classifier__penalty=l2, classifier__solver=lbfgs \n",
            "[CV]  classifier__C=0.012742749857031334, classifier__multi_class=auto, classifier__penalty=l2, classifier__solver=lbfgs, score=0.572, total= 1.2min\n",
            "[CV] classifier__C=0.012742749857031334, classifier__multi_class=auto, classifier__penalty=l2, classifier__solver=lbfgs \n",
            "[CV]  classifier__C=0.012742749857031334, classifier__multi_class=auto, classifier__penalty=l2, classifier__solver=lbfgs, score=0.572, total= 1.1min\n",
            "[CV] classifier__C=0.012742749857031334, classifier__multi_class=auto, classifier__penalty=l2, classifier__solver=lbfgs \n",
            "[CV]  classifier__C=0.012742749857031334, classifier__multi_class=auto, classifier__penalty=l2, classifier__solver=lbfgs, score=0.572, total= 1.2min\n",
            "[CV] classifier__C=0.03359818286283781, classifier__multi_class=auto, classifier__penalty=l2, classifier__solver=lbfgs \n",
            "[CV]  classifier__C=0.03359818286283781, classifier__multi_class=auto, classifier__penalty=l2, classifier__solver=lbfgs, score=0.589, total= 1.2min\n",
            "[CV] classifier__C=0.03359818286283781, classifier__multi_class=auto, classifier__penalty=l2, classifier__solver=lbfgs \n",
            "[CV]  classifier__C=0.03359818286283781, classifier__multi_class=auto, classifier__penalty=l2, classifier__solver=lbfgs, score=0.580, total= 1.1min\n",
            "[CV] classifier__C=0.03359818286283781, classifier__multi_class=auto, classifier__penalty=l2, classifier__solver=lbfgs \n",
            "[CV]  classifier__C=0.03359818286283781, classifier__multi_class=auto, classifier__penalty=l2, classifier__solver=lbfgs, score=0.581, total= 1.1min\n",
            "[CV] classifier__C=0.03359818286283781, classifier__multi_class=auto, classifier__penalty=l2, classifier__solver=lbfgs \n",
            "[CV]  classifier__C=0.03359818286283781, classifier__multi_class=auto, classifier__penalty=l2, classifier__solver=lbfgs, score=0.590, total= 1.2min\n",
            "[CV] classifier__C=0.03359818286283781, classifier__multi_class=auto, classifier__penalty=l2, classifier__solver=lbfgs \n",
            "[CV]  classifier__C=0.03359818286283781, classifier__multi_class=auto, classifier__penalty=l2, classifier__solver=lbfgs, score=0.591, total= 1.2min\n",
            "[CV] classifier__C=0.08858667904100823, classifier__multi_class=auto, classifier__penalty=l2, classifier__solver=lbfgs \n",
            "[CV]  classifier__C=0.08858667904100823, classifier__multi_class=auto, classifier__penalty=l2, classifier__solver=lbfgs, score=0.673, total= 1.1min\n",
            "[CV] classifier__C=0.08858667904100823, classifier__multi_class=auto, classifier__penalty=l2, classifier__solver=lbfgs \n",
            "[CV]  classifier__C=0.08858667904100823, classifier__multi_class=auto, classifier__penalty=l2, classifier__solver=lbfgs, score=0.672, total= 1.1min\n",
            "[CV] classifier__C=0.08858667904100823, classifier__multi_class=auto, classifier__penalty=l2, classifier__solver=lbfgs \n",
            "[CV]  classifier__C=0.08858667904100823, classifier__multi_class=auto, classifier__penalty=l2, classifier__solver=lbfgs, score=0.681, total= 1.1min\n",
            "[CV] classifier__C=0.08858667904100823, classifier__multi_class=auto, classifier__penalty=l2, classifier__solver=lbfgs \n",
            "[CV]  classifier__C=0.08858667904100823, classifier__multi_class=auto, classifier__penalty=l2, classifier__solver=lbfgs, score=0.662, total= 1.2min\n",
            "[CV] classifier__C=0.08858667904100823, classifier__multi_class=auto, classifier__penalty=l2, classifier__solver=lbfgs \n",
            "[CV]  classifier__C=0.08858667904100823, classifier__multi_class=auto, classifier__penalty=l2, classifier__solver=lbfgs, score=0.658, total= 1.2min\n",
            "[CV] classifier__C=0.23357214690901212, classifier__multi_class=auto, classifier__penalty=l2, classifier__solver=lbfgs \n",
            "[CV]  classifier__C=0.23357214690901212, classifier__multi_class=auto, classifier__penalty=l2, classifier__solver=lbfgs, score=0.751, total= 1.1min\n",
            "[CV] classifier__C=0.23357214690901212, classifier__multi_class=auto, classifier__penalty=l2, classifier__solver=lbfgs \n",
            "[CV]  classifier__C=0.23357214690901212, classifier__multi_class=auto, classifier__penalty=l2, classifier__solver=lbfgs, score=0.760, total= 1.2min\n",
            "[CV] classifier__C=0.23357214690901212, classifier__multi_class=auto, classifier__penalty=l2, classifier__solver=lbfgs \n",
            "[CV]  classifier__C=0.23357214690901212, classifier__multi_class=auto, classifier__penalty=l2, classifier__solver=lbfgs, score=0.771, total= 1.1min\n",
            "[CV] classifier__C=0.23357214690901212, classifier__multi_class=auto, classifier__penalty=l2, classifier__solver=lbfgs \n",
            "[CV]  classifier__C=0.23357214690901212, classifier__multi_class=auto, classifier__penalty=l2, classifier__solver=lbfgs, score=0.745, total= 1.1min\n",
            "[CV] classifier__C=0.23357214690901212, classifier__multi_class=auto, classifier__penalty=l2, classifier__solver=lbfgs \n",
            "[CV]  classifier__C=0.23357214690901212, classifier__multi_class=auto, classifier__penalty=l2, classifier__solver=lbfgs, score=0.757, total= 1.2min\n",
            "[CV] classifier__C=0.615848211066026, classifier__multi_class=auto, classifier__penalty=l2, classifier__solver=lbfgs \n",
            "[CV]  classifier__C=0.615848211066026, classifier__multi_class=auto, classifier__penalty=l2, classifier__solver=lbfgs, score=0.790, total= 1.2min\n",
            "[CV] classifier__C=0.615848211066026, classifier__multi_class=auto, classifier__penalty=l2, classifier__solver=lbfgs \n",
            "[CV]  classifier__C=0.615848211066026, classifier__multi_class=auto, classifier__penalty=l2, classifier__solver=lbfgs, score=0.777, total= 1.1min\n",
            "[CV] classifier__C=0.615848211066026, classifier__multi_class=auto, classifier__penalty=l2, classifier__solver=lbfgs \n",
            "[CV]  classifier__C=0.615848211066026, classifier__multi_class=auto, classifier__penalty=l2, classifier__solver=lbfgs, score=0.818, total= 1.1min\n",
            "[CV] classifier__C=0.615848211066026, classifier__multi_class=auto, classifier__penalty=l2, classifier__solver=lbfgs \n",
            "[CV]  classifier__C=0.615848211066026, classifier__multi_class=auto, classifier__penalty=l2, classifier__solver=lbfgs, score=0.777, total= 1.1min\n",
            "[CV] classifier__C=0.615848211066026, classifier__multi_class=auto, classifier__penalty=l2, classifier__solver=lbfgs \n",
            "[CV]  classifier__C=0.615848211066026, classifier__multi_class=auto, classifier__penalty=l2, classifier__solver=lbfgs, score=0.797, total= 1.1min\n",
            "[CV] classifier__C=1.623776739188721, classifier__multi_class=auto, classifier__penalty=l2, classifier__solver=lbfgs \n",
            "[CV]  classifier__C=1.623776739188721, classifier__multi_class=auto, classifier__penalty=l2, classifier__solver=lbfgs, score=0.789, total= 1.1min\n",
            "[CV] classifier__C=1.623776739188721, classifier__multi_class=auto, classifier__penalty=l2, classifier__solver=lbfgs \n",
            "[CV]  classifier__C=1.623776739188721, classifier__multi_class=auto, classifier__penalty=l2, classifier__solver=lbfgs, score=0.780, total= 1.1min\n",
            "[CV] classifier__C=1.623776739188721, classifier__multi_class=auto, classifier__penalty=l2, classifier__solver=lbfgs \n",
            "[CV]  classifier__C=1.623776739188721, classifier__multi_class=auto, classifier__penalty=l2, classifier__solver=lbfgs, score=0.818, total= 1.1min\n",
            "[CV] classifier__C=1.623776739188721, classifier__multi_class=auto, classifier__penalty=l2, classifier__solver=lbfgs \n",
            "[CV]  classifier__C=1.623776739188721, classifier__multi_class=auto, classifier__penalty=l2, classifier__solver=lbfgs, score=0.789, total= 1.1min\n",
            "[CV] classifier__C=1.623776739188721, classifier__multi_class=auto, classifier__penalty=l2, classifier__solver=lbfgs \n",
            "[CV]  classifier__C=1.623776739188721, classifier__multi_class=auto, classifier__penalty=l2, classifier__solver=lbfgs, score=0.796, total= 1.1min\n",
            "[CV] classifier__C=4.281332398719396, classifier__multi_class=auto, classifier__penalty=l2, classifier__solver=lbfgs \n",
            "[CV]  classifier__C=4.281332398719396, classifier__multi_class=auto, classifier__penalty=l2, classifier__solver=lbfgs, score=0.786, total= 1.1min\n",
            "[CV] classifier__C=4.281332398719396, classifier__multi_class=auto, classifier__penalty=l2, classifier__solver=lbfgs \n",
            "[CV]  classifier__C=4.281332398719396, classifier__multi_class=auto, classifier__penalty=l2, classifier__solver=lbfgs, score=0.777, total= 1.2min\n",
            "[CV] classifier__C=4.281332398719396, classifier__multi_class=auto, classifier__penalty=l2, classifier__solver=lbfgs \n",
            "[CV]  classifier__C=4.281332398719396, classifier__multi_class=auto, classifier__penalty=l2, classifier__solver=lbfgs, score=0.808, total= 1.1min\n",
            "[CV] classifier__C=4.281332398719396, classifier__multi_class=auto, classifier__penalty=l2, classifier__solver=lbfgs \n",
            "[CV]  classifier__C=4.281332398719396, classifier__multi_class=auto, classifier__penalty=l2, classifier__solver=lbfgs, score=0.789, total= 1.1min\n",
            "[CV] classifier__C=4.281332398719396, classifier__multi_class=auto, classifier__penalty=l2, classifier__solver=lbfgs \n",
            "[CV]  classifier__C=4.281332398719396, classifier__multi_class=auto, classifier__penalty=l2, classifier__solver=lbfgs, score=0.790, total= 1.1min\n",
            "[CV] classifier__C=11.288378916846883, classifier__multi_class=auto, classifier__penalty=l2, classifier__solver=lbfgs \n",
            "[CV]  classifier__C=11.288378916846883, classifier__multi_class=auto, classifier__penalty=l2, classifier__solver=lbfgs, score=0.784, total= 1.1min\n",
            "[CV] classifier__C=11.288378916846883, classifier__multi_class=auto, classifier__penalty=l2, classifier__solver=lbfgs \n",
            "[CV]  classifier__C=11.288378916846883, classifier__multi_class=auto, classifier__penalty=l2, classifier__solver=lbfgs, score=0.772, total= 1.2min\n",
            "[CV] classifier__C=11.288378916846883, classifier__multi_class=auto, classifier__penalty=l2, classifier__solver=lbfgs \n",
            "[CV]  classifier__C=11.288378916846883, classifier__multi_class=auto, classifier__penalty=l2, classifier__solver=lbfgs, score=0.805, total= 1.1min\n",
            "[CV] classifier__C=11.288378916846883, classifier__multi_class=auto, classifier__penalty=l2, classifier__solver=lbfgs \n",
            "[CV]  classifier__C=11.288378916846883, classifier__multi_class=auto, classifier__penalty=l2, classifier__solver=lbfgs, score=0.791, total= 1.2min\n",
            "[CV] classifier__C=11.288378916846883, classifier__multi_class=auto, classifier__penalty=l2, classifier__solver=lbfgs \n",
            "[CV]  classifier__C=11.288378916846883, classifier__multi_class=auto, classifier__penalty=l2, classifier__solver=lbfgs, score=0.794, total= 1.2min\n",
            "[CV] classifier__C=29.763514416313132, classifier__multi_class=auto, classifier__penalty=l2, classifier__solver=lbfgs \n",
            "[CV]  classifier__C=29.763514416313132, classifier__multi_class=auto, classifier__penalty=l2, classifier__solver=lbfgs, score=0.785, total= 1.2min\n",
            "[CV] classifier__C=29.763514416313132, classifier__multi_class=auto, classifier__penalty=l2, classifier__solver=lbfgs \n",
            "[CV]  classifier__C=29.763514416313132, classifier__multi_class=auto, classifier__penalty=l2, classifier__solver=lbfgs, score=0.771, total= 1.2min\n",
            "[CV] classifier__C=29.763514416313132, classifier__multi_class=auto, classifier__penalty=l2, classifier__solver=lbfgs \n",
            "[CV]  classifier__C=29.763514416313132, classifier__multi_class=auto, classifier__penalty=l2, classifier__solver=lbfgs, score=0.800, total= 1.2min\n",
            "[CV] classifier__C=29.763514416313132, classifier__multi_class=auto, classifier__penalty=l2, classifier__solver=lbfgs \n",
            "[CV]  classifier__C=29.763514416313132, classifier__multi_class=auto, classifier__penalty=l2, classifier__solver=lbfgs, score=0.790, total= 1.2min\n",
            "[CV] classifier__C=29.763514416313132, classifier__multi_class=auto, classifier__penalty=l2, classifier__solver=lbfgs \n",
            "[CV]  classifier__C=29.763514416313132, classifier__multi_class=auto, classifier__penalty=l2, classifier__solver=lbfgs, score=0.795, total= 1.1min\n",
            "[CV] classifier__C=78.47599703514607, classifier__multi_class=auto, classifier__penalty=l2, classifier__solver=lbfgs \n",
            "[CV]  classifier__C=78.47599703514607, classifier__multi_class=auto, classifier__penalty=l2, classifier__solver=lbfgs, score=0.785, total= 1.2min\n",
            "[CV] classifier__C=78.47599703514607, classifier__multi_class=auto, classifier__penalty=l2, classifier__solver=lbfgs \n",
            "[CV]  classifier__C=78.47599703514607, classifier__multi_class=auto, classifier__penalty=l2, classifier__solver=lbfgs, score=0.774, total= 1.1min\n",
            "[CV] classifier__C=78.47599703514607, classifier__multi_class=auto, classifier__penalty=l2, classifier__solver=lbfgs \n",
            "[CV]  classifier__C=78.47599703514607, classifier__multi_class=auto, classifier__penalty=l2, classifier__solver=lbfgs, score=0.799, total= 1.2min\n",
            "[CV] classifier__C=78.47599703514607, classifier__multi_class=auto, classifier__penalty=l2, classifier__solver=lbfgs \n",
            "[CV]  classifier__C=78.47599703514607, classifier__multi_class=auto, classifier__penalty=l2, classifier__solver=lbfgs, score=0.787, total= 1.2min\n",
            "[CV] classifier__C=78.47599703514607, classifier__multi_class=auto, classifier__penalty=l2, classifier__solver=lbfgs \n",
            "[CV]  classifier__C=78.47599703514607, classifier__multi_class=auto, classifier__penalty=l2, classifier__solver=lbfgs, score=0.794, total= 1.2min\n",
            "[CV] classifier__C=206.913808111479, classifier__multi_class=auto, classifier__penalty=l2, classifier__solver=lbfgs \n",
            "[CV]  classifier__C=206.913808111479, classifier__multi_class=auto, classifier__penalty=l2, classifier__solver=lbfgs, score=0.783, total= 1.2min\n",
            "[CV] classifier__C=206.913808111479, classifier__multi_class=auto, classifier__penalty=l2, classifier__solver=lbfgs \n",
            "[CV]  classifier__C=206.913808111479, classifier__multi_class=auto, classifier__penalty=l2, classifier__solver=lbfgs, score=0.770, total= 1.2min\n",
            "[CV] classifier__C=206.913808111479, classifier__multi_class=auto, classifier__penalty=l2, classifier__solver=lbfgs \n",
            "[CV]  classifier__C=206.913808111479, classifier__multi_class=auto, classifier__penalty=l2, classifier__solver=lbfgs, score=0.801, total= 1.2min\n",
            "[CV] classifier__C=206.913808111479, classifier__multi_class=auto, classifier__penalty=l2, classifier__solver=lbfgs \n",
            "[CV]  classifier__C=206.913808111479, classifier__multi_class=auto, classifier__penalty=l2, classifier__solver=lbfgs, score=0.787, total= 1.2min\n",
            "[CV] classifier__C=206.913808111479, classifier__multi_class=auto, classifier__penalty=l2, classifier__solver=lbfgs \n",
            "[CV]  classifier__C=206.913808111479, classifier__multi_class=auto, classifier__penalty=l2, classifier__solver=lbfgs, score=0.797, total= 1.1min\n",
            "[CV] classifier__C=545.5594781168514, classifier__multi_class=auto, classifier__penalty=l2, classifier__solver=lbfgs \n",
            "[CV]  classifier__C=545.5594781168514, classifier__multi_class=auto, classifier__penalty=l2, classifier__solver=lbfgs, score=0.781, total= 1.2min\n",
            "[CV] classifier__C=545.5594781168514, classifier__multi_class=auto, classifier__penalty=l2, classifier__solver=lbfgs \n",
            "[CV]  classifier__C=545.5594781168514, classifier__multi_class=auto, classifier__penalty=l2, classifier__solver=lbfgs, score=0.772, total= 1.2min\n",
            "[CV] classifier__C=545.5594781168514, classifier__multi_class=auto, classifier__penalty=l2, classifier__solver=lbfgs \n",
            "[CV]  classifier__C=545.5594781168514, classifier__multi_class=auto, classifier__penalty=l2, classifier__solver=lbfgs, score=0.800, total= 1.2min\n",
            "[CV] classifier__C=545.5594781168514, classifier__multi_class=auto, classifier__penalty=l2, classifier__solver=lbfgs \n",
            "[CV]  classifier__C=545.5594781168514, classifier__multi_class=auto, classifier__penalty=l2, classifier__solver=lbfgs, score=0.787, total= 1.2min\n",
            "[CV] classifier__C=545.5594781168514, classifier__multi_class=auto, classifier__penalty=l2, classifier__solver=lbfgs \n",
            "[CV]  classifier__C=545.5594781168514, classifier__multi_class=auto, classifier__penalty=l2, classifier__solver=lbfgs, score=0.798, total= 1.2min\n",
            "[CV] classifier__C=1438.44988828766, classifier__multi_class=auto, classifier__penalty=l2, classifier__solver=lbfgs \n",
            "[CV]  classifier__C=1438.44988828766, classifier__multi_class=auto, classifier__penalty=l2, classifier__solver=lbfgs, score=0.782, total= 1.2min\n",
            "[CV] classifier__C=1438.44988828766, classifier__multi_class=auto, classifier__penalty=l2, classifier__solver=lbfgs \n",
            "[CV]  classifier__C=1438.44988828766, classifier__multi_class=auto, classifier__penalty=l2, classifier__solver=lbfgs, score=0.773, total= 1.2min\n",
            "[CV] classifier__C=1438.44988828766, classifier__multi_class=auto, classifier__penalty=l2, classifier__solver=lbfgs \n",
            "[CV]  classifier__C=1438.44988828766, classifier__multi_class=auto, classifier__penalty=l2, classifier__solver=lbfgs, score=0.799, total= 1.2min\n",
            "[CV] classifier__C=1438.44988828766, classifier__multi_class=auto, classifier__penalty=l2, classifier__solver=lbfgs \n",
            "[CV]  classifier__C=1438.44988828766, classifier__multi_class=auto, classifier__penalty=l2, classifier__solver=lbfgs, score=0.788, total= 1.2min\n",
            "[CV] classifier__C=1438.44988828766, classifier__multi_class=auto, classifier__penalty=l2, classifier__solver=lbfgs \n",
            "[CV]  classifier__C=1438.44988828766, classifier__multi_class=auto, classifier__penalty=l2, classifier__solver=lbfgs, score=0.798, total= 1.2min\n",
            "[CV] classifier__C=3792.690190732246, classifier__multi_class=auto, classifier__penalty=l2, classifier__solver=lbfgs \n",
            "[CV]  classifier__C=3792.690190732246, classifier__multi_class=auto, classifier__penalty=l2, classifier__solver=lbfgs, score=0.781, total= 1.2min\n",
            "[CV] classifier__C=3792.690190732246, classifier__multi_class=auto, classifier__penalty=l2, classifier__solver=lbfgs \n",
            "[CV]  classifier__C=3792.690190732246, classifier__multi_class=auto, classifier__penalty=l2, classifier__solver=lbfgs, score=0.773, total= 1.2min\n",
            "[CV] classifier__C=3792.690190732246, classifier__multi_class=auto, classifier__penalty=l2, classifier__solver=lbfgs \n",
            "[CV]  classifier__C=3792.690190732246, classifier__multi_class=auto, classifier__penalty=l2, classifier__solver=lbfgs, score=0.796, total= 1.2min\n",
            "[CV] classifier__C=3792.690190732246, classifier__multi_class=auto, classifier__penalty=l2, classifier__solver=lbfgs \n",
            "[CV]  classifier__C=3792.690190732246, classifier__multi_class=auto, classifier__penalty=l2, classifier__solver=lbfgs, score=0.788, total= 1.2min\n",
            "[CV] classifier__C=3792.690190732246, classifier__multi_class=auto, classifier__penalty=l2, classifier__solver=lbfgs \n",
            "[CV]  classifier__C=3792.690190732246, classifier__multi_class=auto, classifier__penalty=l2, classifier__solver=lbfgs, score=0.798, total= 1.2min\n",
            "[CV] classifier__C=10000.0, classifier__multi_class=auto, classifier__penalty=l2, classifier__solver=lbfgs \n",
            "[CV]  classifier__C=10000.0, classifier__multi_class=auto, classifier__penalty=l2, classifier__solver=lbfgs, score=0.781, total= 1.2min\n",
            "[CV] classifier__C=10000.0, classifier__multi_class=auto, classifier__penalty=l2, classifier__solver=lbfgs \n",
            "[CV]  classifier__C=10000.0, classifier__multi_class=auto, classifier__penalty=l2, classifier__solver=lbfgs, score=0.773, total= 1.2min\n",
            "[CV] classifier__C=10000.0, classifier__multi_class=auto, classifier__penalty=l2, classifier__solver=lbfgs \n",
            "[CV]  classifier__C=10000.0, classifier__multi_class=auto, classifier__penalty=l2, classifier__solver=lbfgs, score=0.796, total= 1.2min\n",
            "[CV] classifier__C=10000.0, classifier__multi_class=auto, classifier__penalty=l2, classifier__solver=lbfgs \n",
            "[CV]  classifier__C=10000.0, classifier__multi_class=auto, classifier__penalty=l2, classifier__solver=lbfgs, score=0.788, total= 1.2min\n",
            "[CV] classifier__C=10000.0, classifier__multi_class=auto, classifier__penalty=l2, classifier__solver=lbfgs \n",
            "[CV]  classifier__C=10000.0, classifier__multi_class=auto, classifier__penalty=l2, classifier__solver=lbfgs, score=0.798, total= 1.2min\n"
          ],
          "name": "stdout"
        },
        {
          "output_type": "stream",
          "text": [
            "[Parallel(n_jobs=1)]: Done 100 out of 100 | elapsed: 115.8min finished\n"
          ],
          "name": "stderr"
        },
        {
          "output_type": "execute_result",
          "data": {
            "text/plain": [
              "GridSearchCV(cv=None, error_score=nan,\n",
              "             estimator=Pipeline(memory=None,\n",
              "                                steps=[('vectorizer',\n",
              "                                        TfidfVectorizer(analyzer='word',\n",
              "                                                        binary=False,\n",
              "                                                        decode_error='strict',\n",
              "                                                        dtype=<class 'numpy.float64'>,\n",
              "                                                        encoding='latin-1',\n",
              "                                                        input='content',\n",
              "                                                        lowercase=True,\n",
              "                                                        max_df=0.975,\n",
              "                                                        max_features=None,\n",
              "                                                        min_df=0.0001,\n",
              "                                                        ngram_range=(1, 2),\n",
              "                                                        norm='l2',\n",
              "                                                        preprocessor=None,\n",
              "                                                        smooth_idf=True,\n",
              "                                                        stop_wor...\n",
              "       2.33572147e-01, 6.15848211e-01, 1.62377674e+00, 4.28133240e+00,\n",
              "       1.12883789e+01, 2.97635144e+01, 7.84759970e+01, 2.06913808e+02,\n",
              "       5.45559478e+02, 1.43844989e+03, 3.79269019e+03, 1.00000000e+04]),\n",
              "                          'classifier__multi_class': ['auto'],\n",
              "                          'classifier__penalty': ['l2'],\n",
              "                          'classifier__solver': ['lbfgs']}],\n",
              "             pre_dispatch='2*n_jobs', refit=True, return_train_score=False,\n",
              "             scoring=None, verbose=3)"
            ]
          },
          "metadata": {
            "tags": []
          },
          "execution_count": 24
        }
      ]
    },
    {
      "cell_type": "code",
      "metadata": {
        "id": "JSB2-f689dGb",
        "colab": {
          "base_uri": "https://localhost:8080/"
        },
        "outputId": "d6ef4f57-6e33-4398-f43f-f66a5a602140"
      },
      "source": [
        "sorted(clf.cv_results_.keys())\n",
        "print(clf.cv_results_)\n",
        "print('-------')\n",
        "print(clf.best_estimator_.get_params()['classifier'])\n",
        "print(clf.best_score_)"
      ],
      "execution_count": null,
      "outputs": [
        {
          "output_type": "stream",
          "text": [
            "{'mean_fit_time': array([55.3454257 , 55.45707951, 55.00864854, 54.86438694, 54.94616156,\n",
            "       55.28833714, 55.28851848, 55.23160491, 55.28133707, 54.80264382,\n",
            "       54.88515029, 55.0457664 , 55.5053287 , 55.60127702, 56.15061522,\n",
            "       55.97474151, 56.42818418, 57.6435739 , 58.07682862, 59.38368025]), 'std_fit_time': array([0.382958  , 0.19404614, 0.38170147, 0.24386991, 0.23592595,\n",
            "       0.21409725, 0.41997458, 0.1909499 , 0.15635557, 0.55496834,\n",
            "       0.15802973, 0.35561202, 0.55909254, 0.29155438, 0.46516824,\n",
            "       0.38058646, 0.46390486, 0.25289162, 0.30738124, 0.60898824]), 'mean_score_time': array([13.65299673, 13.81337132, 13.70836539, 13.64897103, 13.73133664,\n",
            "       13.77508554, 13.83442006, 13.81866379, 13.73145809, 13.58431439,\n",
            "       13.61371326, 13.62265878, 13.61536722, 13.66206632, 13.59285355,\n",
            "       13.61504788, 13.55888009, 13.90276098, 13.72145891, 13.65480614]), 'std_score_time': array([0.13184119, 0.12834308, 0.10038113, 0.10937391, 0.15477976,\n",
            "       0.19090944, 0.14237729, 0.25326703, 0.07831893, 0.05880697,\n",
            "       0.14244855, 0.13316907, 0.14708456, 0.11906231, 0.12430893,\n",
            "       0.13507944, 0.14941016, 0.41094617, 0.14147463, 0.10043597]), 'param_classifier__C': masked_array(data=[0.0001, 0.00026366508987303583, 0.0006951927961775605,\n",
            "                   0.0018329807108324356, 0.004832930238571752,\n",
            "                   0.012742749857031334, 0.03359818286283781,\n",
            "                   0.08858667904100823, 0.23357214690901212,\n",
            "                   0.615848211066026, 1.623776739188721,\n",
            "                   4.281332398719396, 11.288378916846883,\n",
            "                   29.763514416313132, 78.47599703514607,\n",
            "                   206.913808111479, 545.5594781168514, 1438.44988828766,\n",
            "                   3792.690190732246, 10000.0],\n",
            "             mask=[False, False, False, False, False, False, False, False,\n",
            "                   False, False, False, False, False, False, False, False,\n",
            "                   False, False, False, False],\n",
            "       fill_value='?',\n",
            "            dtype=object), 'param_classifier__multi_class': masked_array(data=['auto', 'auto', 'auto', 'auto', 'auto', 'auto', 'auto',\n",
            "                   'auto', 'auto', 'auto', 'auto', 'auto', 'auto', 'auto',\n",
            "                   'auto', 'auto', 'auto', 'auto', 'auto', 'auto'],\n",
            "             mask=[False, False, False, False, False, False, False, False,\n",
            "                   False, False, False, False, False, False, False, False,\n",
            "                   False, False, False, False],\n",
            "       fill_value='?',\n",
            "            dtype=object), 'param_classifier__penalty': masked_array(data=['l2', 'l2', 'l2', 'l2', 'l2', 'l2', 'l2', 'l2', 'l2',\n",
            "                   'l2', 'l2', 'l2', 'l2', 'l2', 'l2', 'l2', 'l2', 'l2',\n",
            "                   'l2', 'l2'],\n",
            "             mask=[False, False, False, False, False, False, False, False,\n",
            "                   False, False, False, False, False, False, False, False,\n",
            "                   False, False, False, False],\n",
            "       fill_value='?',\n",
            "            dtype=object), 'param_classifier__solver': masked_array(data=['lbfgs', 'lbfgs', 'lbfgs', 'lbfgs', 'lbfgs', 'lbfgs',\n",
            "                   'lbfgs', 'lbfgs', 'lbfgs', 'lbfgs', 'lbfgs', 'lbfgs',\n",
            "                   'lbfgs', 'lbfgs', 'lbfgs', 'lbfgs', 'lbfgs', 'lbfgs',\n",
            "                   'lbfgs', 'lbfgs'],\n",
            "             mask=[False, False, False, False, False, False, False, False,\n",
            "                   False, False, False, False, False, False, False, False,\n",
            "                   False, False, False, False],\n",
            "       fill_value='?',\n",
            "            dtype=object), 'params': [{'classifier__C': 0.0001, 'classifier__multi_class': 'auto', 'classifier__penalty': 'l2', 'classifier__solver': 'lbfgs'}, {'classifier__C': 0.00026366508987303583, 'classifier__multi_class': 'auto', 'classifier__penalty': 'l2', 'classifier__solver': 'lbfgs'}, {'classifier__C': 0.0006951927961775605, 'classifier__multi_class': 'auto', 'classifier__penalty': 'l2', 'classifier__solver': 'lbfgs'}, {'classifier__C': 0.0018329807108324356, 'classifier__multi_class': 'auto', 'classifier__penalty': 'l2', 'classifier__solver': 'lbfgs'}, {'classifier__C': 0.004832930238571752, 'classifier__multi_class': 'auto', 'classifier__penalty': 'l2', 'classifier__solver': 'lbfgs'}, {'classifier__C': 0.012742749857031334, 'classifier__multi_class': 'auto', 'classifier__penalty': 'l2', 'classifier__solver': 'lbfgs'}, {'classifier__C': 0.03359818286283781, 'classifier__multi_class': 'auto', 'classifier__penalty': 'l2', 'classifier__solver': 'lbfgs'}, {'classifier__C': 0.08858667904100823, 'classifier__multi_class': 'auto', 'classifier__penalty': 'l2', 'classifier__solver': 'lbfgs'}, {'classifier__C': 0.23357214690901212, 'classifier__multi_class': 'auto', 'classifier__penalty': 'l2', 'classifier__solver': 'lbfgs'}, {'classifier__C': 0.615848211066026, 'classifier__multi_class': 'auto', 'classifier__penalty': 'l2', 'classifier__solver': 'lbfgs'}, {'classifier__C': 1.623776739188721, 'classifier__multi_class': 'auto', 'classifier__penalty': 'l2', 'classifier__solver': 'lbfgs'}, {'classifier__C': 4.281332398719396, 'classifier__multi_class': 'auto', 'classifier__penalty': 'l2', 'classifier__solver': 'lbfgs'}, {'classifier__C': 11.288378916846883, 'classifier__multi_class': 'auto', 'classifier__penalty': 'l2', 'classifier__solver': 'lbfgs'}, {'classifier__C': 29.763514416313132, 'classifier__multi_class': 'auto', 'classifier__penalty': 'l2', 'classifier__solver': 'lbfgs'}, {'classifier__C': 78.47599703514607, 'classifier__multi_class': 'auto', 'classifier__penalty': 'l2', 'classifier__solver': 'lbfgs'}, {'classifier__C': 206.913808111479, 'classifier__multi_class': 'auto', 'classifier__penalty': 'l2', 'classifier__solver': 'lbfgs'}, {'classifier__C': 545.5594781168514, 'classifier__multi_class': 'auto', 'classifier__penalty': 'l2', 'classifier__solver': 'lbfgs'}, {'classifier__C': 1438.44988828766, 'classifier__multi_class': 'auto', 'classifier__penalty': 'l2', 'classifier__solver': 'lbfgs'}, {'classifier__C': 3792.690190732246, 'classifier__multi_class': 'auto', 'classifier__penalty': 'l2', 'classifier__solver': 'lbfgs'}, {'classifier__C': 10000.0, 'classifier__multi_class': 'auto', 'classifier__penalty': 'l2', 'classifier__solver': 'lbfgs'}], 'split0_test_score': array([0.57220077, 0.57220077, 0.57220077, 0.57220077, 0.57220077,\n",
            "       0.57220077, 0.58918919, 0.67335907, 0.75057915, 0.78996139,\n",
            "       0.78918919, 0.78610039, 0.78378378, 0.78532819, 0.78532819,\n",
            "       0.78301158, 0.78069498, 0.78223938, 0.78146718, 0.78069498]), 'split1_test_score': array([0.57187017, 0.57187017, 0.57187017, 0.57187017, 0.57187017,\n",
            "       0.57187017, 0.58037094, 0.67156105, 0.76043277, 0.77666151,\n",
            "       0.7797527 , 0.77666151, 0.77202473, 0.77125193, 0.77434312,\n",
            "       0.77047913, 0.77202473, 0.77279753, 0.77279753, 0.77279753]), 'split2_test_score': array([0.57187017, 0.57187017, 0.57187017, 0.57187017, 0.57187017,\n",
            "       0.57187017, 0.58114374, 0.68083462, 0.77125193, 0.81761978,\n",
            "       0.81839258, 0.80834621, 0.80525502, 0.79984544, 0.79907264,\n",
            "       0.80061824, 0.79984544, 0.79907264, 0.79598145, 0.79598145]), 'split3_test_score': array([0.57187017, 0.57187017, 0.57187017, 0.57187017, 0.57187017,\n",
            "       0.57187017, 0.58964451, 0.66151468, 0.74497682, 0.77743431,\n",
            "       0.78902628, 0.78902628, 0.79057187, 0.78979907, 0.78748068,\n",
            "       0.78670788, 0.78670788, 0.78825348, 0.78825348, 0.78825348]), 'split4_test_score': array([0.57187017, 0.57187017, 0.57187017, 0.57187017, 0.57187017,\n",
            "       0.57187017, 0.59119011, 0.65842349, 0.75734158, 0.79675425,\n",
            "       0.79598145, 0.78979907, 0.79443586, 0.79520866, 0.79443586,\n",
            "       0.79675425, 0.79752705, 0.79752705, 0.79829985, 0.79752705]), 'mean_test_score': array([0.57193629, 0.57193629, 0.57193629, 0.57193629, 0.57193629,\n",
            "       0.57193629, 0.5863077 , 0.66913858, 0.75691645, 0.79168625,\n",
            "       0.79446844, 0.78998669, 0.78921425, 0.78828666, 0.7881321 ,\n",
            "       0.78751422, 0.78736002, 0.78797802, 0.7873599 , 0.7870509 ]), 'std_test_score': array([0.00013224, 0.00013224, 0.00013224, 0.00013224, 0.00013224,\n",
            "       0.00013224, 0.00458665, 0.00816597, 0.00895285, 0.01503375,\n",
            "       0.01302839, 0.01030236, 0.01105789, 0.0098259 , 0.00845997,\n",
            "       0.01066031, 0.01038531, 0.00977476, 0.00939786, 0.00932209]), 'rank_test_score': array([15, 15, 15, 15, 15, 15, 14, 13, 12,  2,  1,  3,  4,  5,  6,  8,  9,\n",
            "        7, 10, 11], dtype=int32)}\n",
            "-------\n",
            "LogisticRegression(C=1.623776739188721, class_weight=None, dual=False,\n",
            "                   fit_intercept=True, intercept_scaling=1, l1_ratio=None,\n",
            "                   max_iter=5000, multi_class='auto', n_jobs=2, penalty='l2',\n",
            "                   random_state=72, solver='lbfgs', tol=0.0001, verbose=0,\n",
            "                   warm_start=False)\n",
            "0.794468440619909\n"
          ],
          "name": "stdout"
        }
      ]
    },
    {
      "cell_type": "markdown",
      "metadata": {
        "id": "9mNzVyaQRV9G"
      },
      "source": [
        "Here, we can see the best hyperparameters for our classifier, based off of our datasets and tf-idf vectorizers. \n",
        "\n",
        "The GridSearchCV allows us to be sure of our hyperparameters. However, we cannot be sure that the datasets are in a perfect state, as it takes the most time and effort to clean and process the data properly. \n",
        "\n",
        "We still feel that with these parameters, we get the best score (so far for us)"
      ]
    },
    {
      "cell_type": "markdown",
      "metadata": {
        "id": "ZcYLPIgzRN4K"
      },
      "source": [
        "# **7.Submission**"
      ]
    },
    {
      "cell_type": "markdown",
      "metadata": {
        "id": "Cm3BdJOAB8We"
      },
      "source": [
        "We found in the code above the best parameters for the LogisticRegression classifier. We are going build the model in the code below."
      ]
    },
    {
      "cell_type": "code",
      "metadata": {
        "id": "w2X73P1u0JOW"
      },
      "source": [
        "# submission based on our final model and parameters found just above\n",
        "# Fill the XX with the best values we got above\n",
        "\n",
        "final_classifier = LogisticRegression(C=1.623776739188721, class_weight=None, dual=False,\n",
        "                   fit_intercept=True, intercept_scaling=1, l1_ratio=None,\n",
        "                   max_iter=10000, multi_class='auto', n_jobs=2, penalty='l2',\n",
        "                   random_state=72, solver='lbfgs', tol=0.0001, verbose=0,\n",
        "                   warm_start=False)\n",
        "\n",
        "# Create pipeline\n",
        "pipe = Pipeline([('vectorizer', tfidf),\n",
        "                 ('classifier', final_classifier)])\n",
        "pipe.fit(X_train, y_train)\n",
        "pred = pipe.predict(X_test)\n",
        "pred_2 = pipe.predict(X_train)"
      ],
      "execution_count": null,
      "outputs": []
    },
    {
      "cell_type": "code",
      "metadata": {
        "colab": {
          "base_uri": "https://localhost:8080/"
        },
        "id": "o06F3N5N0I2_",
        "outputId": "f3bd7c0f-aac3-4252-c7e2-cabef8561f9f"
      },
      "source": [
        "accuracy_score(y_train, pred_2)"
      ],
      "execution_count": null,
      "outputs": [
        {
          "output_type": "execute_result",
          "data": {
            "text/plain": [
              "0.9324679338587545"
            ]
          },
          "metadata": {
            "tags": []
          },
          "execution_count": 27
        }
      ]
    },
    {
      "cell_type": "markdown",
      "metadata": {
        "id": "oiv0lvSsCQfN"
      },
      "source": [
        "As you can see, the training accuracy is 0.932. This means that in 93,2% of the time, our model makes the right predictions for the training set. You can see the confusion matrix in the code below."
      ]
    },
    {
      "cell_type": "code",
      "metadata": {
        "id": "1ORqOI4iCmDp",
        "colab": {
          "base_uri": "https://localhost:8080/",
          "height": 334
        },
        "outputId": "d88d39d8-7754-4e74-c799-0ee17171e73a"
      },
      "source": [
        "# Confusion matrix\n",
        "\n",
        "conf_mat = confusion_matrix(y_train,pred_2)\n",
        "fig, ax = plt.subplots(figsize=(7,5))\n",
        "sns.heatmap(conf_mat, annot=True, fmt='d')\n",
        "plt.ylabel('Actual')\n",
        "plt.xlabel('Predicted')\n",
        "plt.show()"
      ],
      "execution_count": null,
      "outputs": [
        {
          "output_type": "display_data",
          "data": {
            "image/png": "[encoded data removed]",
            "text/plain": [
              "<Figure size 504x360 with 2 Axes>"
            ]
          },
          "metadata": {
            "tags": [],
            "needs_background": "light"
          }
        }
      ]
    },
    {
      "cell_type": "markdown",
      "metadata": {
        "id": "d-ALDGeBYWnR"
      },
      "source": [
        "The confusion matrix shows us that from the training data, it faces the most difficulty when trying to predict the real disaster tweets, as it has wrongly classified 380 out of the total 6'471 in the training data. \n",
        "\n",
        "We could examine the reasons for the wrongly classified disaster tweets. What did we not do (process, clean, etc) on the training data that made us misclassify those tweets ?\n"
      ]
    },
    {
      "cell_type": "code",
      "metadata": {
        "colab": {
          "base_uri": "https://localhost:8080/",
          "height": 34
        },
        "id": "qWmnfgfl054N",
        "outputId": "872648ba-b8a4-4a0c-c87e-77ddce819148"
      },
      "source": [
        "submission = pd.DataFrame(pred)\n",
        "create_download_link(submission)"
      ],
      "execution_count": null,
      "outputs": [
        {
          "output_type": "execute_result",
          "data": {
            "text/html": [
              "<a download=\"data.csv\" href=\"data:text/csv;base64,LDAKMCwwCjEsMAoyLDEKMywwCjQsMAo1LDAKNiwxCjcsMQo4LDEKOSwxCjEwLDEKMTEsMQoxMiwwCjEzLDAKMTQsMQoxNSwwCjE2LDAKMTcsMAoxOCwxCjE5LDAKMjAsMAoyMSwxCjIyLDEKMjMsMQoyNCwwCjI1LDEKMjYsMQoyNywwCjI4LDEKMjksMQozMCwwCjMxLDEKMzIsMAozMywwCjM0LDAKMzUsMAozNiwxCjM3LDEKMzgsMQozOSwwCjQwLDAKNDEsMAo0MiwwCjQzLDEKNDQsMQo0NSwwCjQ2LDAKNDcsMQo0OCwxCjQ5LDEKNTAsMAo1MSwwCjUyLDAKNTMsMAo1NCwwCjU1LDEKNTYsMAo1NywwCjU4LDEKNTksMAo2MCwxCjYxLDAKNjIsMAo2MywwCjY0LDAKNjUsMAo2NiwwCjY3LDEKNjgsMQo2OSwxCjcwLDAKNzEsMAo3MiwxCjczLDAKNzQsMAo3NSwwCjc2LDAKNzcsMQo3OCwwCjc5LDAKODAsMQo4MSwwCjgyLDAKODMsMAo4NCwxCjg1LDEKODYsMAo4NywwCjg4LDAKODksMAo5MCwxCjkxLDEKOTIsMQo5MywwCjk0LDEKOTUsMAo5NiwwCjk3LDEKOTgsMAo5OSwwCjEwMCwwCjEwMSwwCjEwMiwxCjEwMywwCjEwNCwwCjEwNSwxCjEwNiwxCjEwNywwCjEwOCwxCjEwOSwwCjExMCwxCjExMSwwCjExMiwxCjExMywxCjExNCwwCjExNSwwCjExNiwxCjExNywwCjExOCwxCjExOSwxCjEyMCwxCjEyMSwxCjEyMiwxCjEyMywxCjEyNCwwCjEyNSwxCjEyNiwwCjEyNywwCjEyOCwwCjEyOSwxCjEzMCwwCjEzMSwxCjEzMiwwCjEzMywwCjEzNCwwCjEzNSwxCjEzNiwwCjEzNywxCjEzOCwwCjEzOSwwCjE0MCwwCjE0MSwwCjE0MiwwCjE0MywwCjE0NCwwCjE0NSwxCjE0NiwwCjE0NywxCjE0OCwwCjE0OSwwCjE1MCwwCjE1MSwwCjE1MiwxCjE1MywxCjE1NCwwCjE1NSwxCjE1NiwxCjE1NywwCjE1OCwwCjE1OSwxCjE2MCwxCjE2MSwwCjE2MiwwCjE2MywwCjE2NCwwCjE2NSwwCjE2NiwxCjE2NywwCjE2OCwxCjE2OSwwCjE3MCwxCjE3MSwxCjE3MiwwCjE3MywwCjE3NCwxCjE3NSwwCjE3NiwxCjE3NywxCjE3OCwwCjE3OSwxCjE4MCwxCjE4MSwwCjE4MiwwCjE4MywxCjE4NCwxCjE4NSwwCjE4NiwxCjE4NywxCjE4OCwxCjE4OSwwCjE5MCwwCjE5MSwwCjE5MiwxCjE5MywwCjE5NCwwCjE5NSwxCjE5NiwxCjE5NywwCjE5OCwxCjE5OSwwCjIwMCwwCjIwMSwwCjIwMiwwCjIwMywxCjIwNCwwCjIwNSwwCjIwNiwwCjIwNywxCjIwOCwwCjIwOSwwCjIxMCwxCjIxMSwxCjIxMiwwCjIxMywwCjIxNCwwCjIxNSwwCjIxNiwwCjIxNywxCjIxOCwwCjIxOSwwCjIyMCwxCjIyMSwwCjIyMiwxCjIyMywxCjIyNCwwCjIyNSwxCjIyNiwwCjIyNywxCjIyOCwwCjIyOSwwCjIzMCwwCjIzMSwxCjIzMiwxCjIzMywwCjIzNCwwCjIzNSwxCjIzNiwwCjIzNywwCjIzOCwxCjIzOSwxCjI0MCwwCjI0MSwxCjI0MiwwCjI0MywxCjI0NCwxCjI0NSwwCjI0NiwwCjI0NywwCjI0OCwxCjI0OSwwCjI1MCwxCjI1MSwxCjI1MiwxCjI1MywwCjI1NCwwCjI1NSwwCjI1NiwxCjI1NywxCjI1OCwwCjI1OSwwCjI2MCwwCjI2MSwxCjI2MiwwCjI2MywxCjI2NCwxCjI2NSwwCjI2NiwwCjI2NywwCjI2OCwwCjI2OSwwCjI3MCwwCjI3MSwwCjI3MiwwCjI3MywwCjI3NCwxCjI3NSwwCjI3NiwxCjI3NywwCjI3OCwxCjI3OSwwCjI4MCwxCjI4MSwwCjI4MiwwCjI4MywwCjI4NCwwCjI4NSwxCjI4NiwxCjI4NywwCjI4OCwxCjI4OSwwCjI5MCwwCjI5MSwwCjI5MiwwCjI5MywxCjI5NCwwCjI5NSwwCjI5NiwxCjI5NywwCjI5OCwxCjI5OSwxCjMwMCwwCjMwMSwwCjMwMiwwCjMwMywxCjMwNCwwCjMwNSwxCjMwNiwxCjMwNywwCjMwOCwwCjMwOSwxCjMxMCwxCjMxMSwxCjMxMiwwCjMxMywwCjMxNCwxCjMxNSwwCjMxNiwxCjMxNywxCjMxOCwwCjMxOSwwCjMyMCwwCjMyMSwwCjMyMiwxCjMyMywxCjMyNCwxCjMyNSwxCjMyNiwxCjMyNywxCjMyOCwwCjMyOSwwCjMzMCwxCjMzMSwwCjMzMiwwCjMzMywwCjMzNCwxCjMzNSwxCjMzNiwwCjMzNywxCjMzOCwwCjMzOSwxCjM0MCwxCjM0MSwxCjM0MiwwCjM0MywwCjM0NCwwCjM0NSwwCjM0NiwxCjM0NywwCjM0OCwwCjM0OSwxCjM1MCwxCjM1MSwxCjM1MiwwCjM1MywxCjM1NCwxCjM1NSwwCjM1NiwxCjM1NywwCjM1OCwwCjM1OSwxCjM2MCwxCjM2MSwwCjM2MiwxCjM2MywwCjM2NCwwCjM2NSwwCjM2NiwxCjM2NywxCjM2OCwwCjM2OSwwCjM3MCwwCjM3MSwwCjM3MiwwCjM3MywxCjM3NCwxCjM3NSwxCjM3NiwxCjM3NywxCjM3OCwwCjM3OSwwCjM4MCwxCjM4MSwwCjM4MiwwCjM4MywxCjM4NCwxCjM4NSwwCjM4NiwxCjM4NywwCjM4OCwxCjM4OSwwCjM5MCwxCjM5MSwwCjM5MiwwCjM5MywwCjM5NCwwCjM5NSwwCjM5NiwxCjM5NywwCjM5OCwwCjM5OSwxCjQwMCwxCjQwMSwwCjQwMiwwCjQwMywwCjQwNCwxCjQwNSwxCjQwNiwwCjQwNywxCjQwOCwwCjQwOSwxCjQxMCwwCjQxMSwwCjQxMiwxCjQxMywwCjQxNCwxCjQxNSwwCjQxNiwwCjQxNywwCjQxOCwxCjQxOSwwCjQyMCwxCjQyMSwwCjQyMiwwCjQyMywxCjQyNCwxCjQyNSwwCjQyNiwwCjQyNywwCjQyOCwwCjQyOSwwCjQzMCwwCjQzMSwwCjQzMiwwCjQzMywxCjQzNCwwCjQzNSwwCjQzNiwxCjQzNywwCjQzOCwxCjQzOSwwCjQ0MCwwCjQ0MSwwCjQ0MiwwCjQ0MywxCjQ0NCwwCjQ0NSwwCjQ0NiwxCjQ0NywwCjQ0OCwxCjQ0OSwxCjQ1MCwxCjQ1MSwxCjQ1MiwwCjQ1MywwCjQ1NCwwCjQ1NSwwCjQ1NiwwCjQ1NywwCjQ1OCwwCjQ1OSwwCjQ2MCwwCjQ2MSwwCjQ2MiwwCjQ2MywwCjQ2NCwxCjQ2NSwwCjQ2NiwwCjQ2NywxCjQ2OCwxCjQ2OSwwCjQ3MCwxCjQ3MSwxCjQ3MiwxCjQ3MywxCjQ3NCwwCjQ3NSwwCjQ3NiwwCjQ3NywxCjQ3OCwwCjQ3OSwxCjQ4MCwxCjQ4MSwwCjQ4MiwxCjQ4MywwCjQ4NCwxCjQ4NSwxCjQ4NiwwCjQ4NywwCjQ4OCwwCjQ4OSwwCjQ5MCwxCjQ5MSwxCjQ5MiwxCjQ5MywxCjQ5NCwwCjQ5NSwwCjQ5NiwwCjQ5NywxCjQ5OCwxCjQ5OSwxCjUwMCwwCjUwMSwxCjUwMiwxCjUwMywwCjUwNCwxCjUwNSwwCjUwNiwwCjUwNywxCjUwOCwwCjUwOSwxCjUxMCwwCjUxMSwwCjUxMiwxCjUxMywwCjUxNCwxCjUxNSwwCjUxNiwwCjUxNywwCjUxOCwwCjUxOSwxCjUyMCwxCjUyMSwxCjUyMiwwCjUyMywwCjUyNCwxCjUyNSwwCjUyNiwwCjUyNywwCjUyOCwwCjUyOSwwCjUzMCwwCjUzMSwxCjUzMiwwCjUzMywwCjUzNCwwCjUzNSwxCjUzNiwwCjUzNywxCjUzOCwxCjUzOSwwCjU0MCwwCjU0MSwwCjU0MiwxCjU0MywxCjU0NCwxCjU0NSwxCjU0NiwwCjU0NywxCjU0OCwxCjU0OSwwCjU1MCwxCjU1MSwxCjU1MiwxCjU1MywxCjU1NCwwCjU1NSwwCjU1NiwxCjU1NywwCjU1OCwwCjU1OSwwCjU2MCwwCjU2MSwwCjU2MiwxCjU2MywwCjU2NCwxCjU2NSwwCjU2NiwwCjU2NywwCjU2OCwwCjU2OSwwCjU3MCwwCjU3MSwwCjU3MiwwCjU3MywwCjU3NCwwCjU3NSwxCjU3NiwwCjU3NywxCjU3OCwxCjU3OSwwCjU4MCwxCjU4MSwxCjU4MiwxCjU4MywxCjU4NCwwCjU4NSwxCjU4NiwwCjU4NywxCjU4OCwwCjU4OSwwCjU5MCwxCjU5MSwwCjU5MiwwCjU5MywwCjU5NCwxCjU5NSwxCjU5NiwxCjU5NywwCjU5OCwxCjU5OSwxCjYwMCwwCjYwMSwxCjYwMiwwCjYwMywxCjYwNCwwCjYwNSwwCjYwNiwwCjYwNywwCjYwOCwwCjYwOSwwCjYxMCwwCjYxMSwxCjYxMiwwCjYxMywwCjYxNCwwCjYxNSwwCjYxNiwwCjYxNywxCjYxOCwwCjYxOSwxCjYyMCwxCjYyMSwwCjYyMiwwCjYyMywxCjYyNCwxCjYyNSwwCjYyNiwwCjYyNywwCjYyOCwxCjYyOSwwCjYzMCwwCjYzMSwwCjYzMiwwCjYzMywwCjYzNCwwCjYzNSwxCjYzNiwwCjYzNywwCjYzOCwwCjYzOSwxCjY0MCwxCjY0MSwwCjY0MiwwCjY0MywxCjY0NCwxCjY0NSwwCjY0NiwxCjY0NywwCjY0OCwxCjY0OSwxCjY1MCwxCjY1MSwwCjY1MiwxCjY1MywwCjY1NCwwCjY1NSwxCjY1NiwwCjY1NywwCjY1OCwwCjY1OSwwCjY2MCwxCjY2MSwwCjY2MiwwCjY2MywwCjY2NCwwCjY2NSwwCjY2NiwwCjY2NywxCjY2OCwwCjY2OSwwCjY3MCwwCjY3MSwwCjY3MiwwCjY3MywxCjY3NCwwCjY3NSwwCjY3NiwwCjY3NywwCjY3OCwwCjY3OSwxCjY4MCwwCjY4MSwwCjY4MiwwCjY4MywwCjY4NCwwCjY4NSwxCjY4NiwxCjY4NywxCjY4OCwwCjY4OSwwCjY5MCwwCjY5MSwxCjY5MiwxCjY5MywxCjY5NCwwCjY5NSwwCjY5NiwwCjY5NywwCjY5OCwxCjY5OSwwCjcwMCwxCjcwMSwxCjcwMiwwCjcwMywxCjcwNCwxCjcwNSwwCjcwNiwwCjcwNywwCjcwOCwwCjcwOSwwCjcxMCwwCjcxMSwwCjcxMiwxCjcxMywwCjcxNCwxCjcxNSwwCjcxNiwxCjcxNywwCjcxOCwwCjcxOSwxCjcyMCwwCjcyMSwwCjcyMiwwCjcyMywwCjcyNCwwCjcyNSwwCjcyNiwwCjcyNywxCjcyOCwwCjcyOSwxCjczMCwxCjczMSwxCjczMiwwCjczMywwCjczNCwwCjczNSwwCjczNiwwCjczNywwCjczOCwwCjczOSwwCjc0MCwxCjc0MSwwCjc0MiwxCjc0MywwCjc0NCwwCjc0NSwxCjc0NiwwCjc0NywwCjc0OCwwCjc0OSwwCjc1MCwxCjc1MSwwCjc1MiwxCjc1MywxCjc1NCwxCjc1NSwxCjc1NiwwCjc1NywxCjc1OCwwCjc1OSwwCjc2MCwxCjc2MSwwCjc2MiwwCjc2MywxCjc2NCwwCjc2NSwxCjc2NiwwCjc2NywxCjc2OCwxCjc2OSwxCjc3MCwxCjc3MSwxCjc3MiwxCjc3MywxCjc3NCwwCjc3NSwxCjc3NiwxCjc3NywwCjc3OCwxCjc3OSwwCjc4MCwxCjc4MSwwCjc4MiwxCjc4MywwCjc4NCwxCjc4NSwwCjc4NiwwCjc4NywxCjc4OCwwCjc4OSwwCjc5MCwwCjc5MSwwCjc5MiwwCjc5MywxCjc5NCwxCjc5NSwwCjc5NiwwCjc5NywxCjc5OCwwCjc5OSwxCjgwMCwwCjgwMSwxCjgwMiwxCjgwMywxCjgwNCwxCjgwNSwwCjgwNiwxCjgwNywwCjgwOCwwCjgwOSwwCjgxMCwwCjgxMSwwCjgxMiwwCjgxMywwCjgxNCwwCjgxNSwxCjgxNiwxCjgxNywwCjgxOCwwCjgxOSwwCjgyMCwxCjgyMSwwCjgyMiwxCjgyMywwCjgyNCwwCjgyNSwxCjgyNiwxCjgyNywxCjgyOCwwCjgyOSwxCjgzMCwxCjgzMSwwCjgzMiwxCjgzMywwCjgzNCwwCjgzNSwwCjgzNiwwCjgzNywwCjgzOCwwCjgzOSwwCjg0MCwwCjg0MSwxCjg0MiwwCjg0MywwCjg0NCwxCjg0NSwwCjg0NiwxCjg0NywwCjg0OCwwCjg0OSwxCjg1MCwwCjg1MSwwCjg1MiwxCjg1MywwCjg1NCwwCjg1NSwwCjg1NiwwCjg1NywwCjg1OCwxCjg1OSwwCjg2MCwwCjg2MSwwCjg2MiwwCjg2MywwCjg2NCwwCjg2NSwxCjg2NiwwCjg2NywwCjg2OCwxCjg2OSwxCjg3MCwxCjg3MSwxCjg3MiwxCjg3MywwCjg3NCwxCjg3NSwwCjg3NiwwCjg3NywwCjg3OCwwCjg3OSwwCjg4MCwwCjg4MSwwCjg4MiwwCjg4MywwCjg4NCwxCjg4NSwxCjg4NiwwCjg4NywwCjg4OCwxCjg4OSwwCjg5MCwwCjg5MSwwCjg5MiwwCjg5MywwCjg5NCwxCjg5NSwwCjg5NiwwCjg5NywwCjg5OCwxCjg5OSwxCjkwMCwxCjkwMSwxCjkwMiwwCjkwMywwCjkwNCwwCjkwNSwxCjkwNiwwCjkwNywxCjkwOCwxCjkwOSwxCjkxMCwwCjkxMSwwCjkxMiwxCjkxMywwCjkxNCwxCjkxNSwwCjkxNiwwCjkxNywwCjkxOCwxCjkxOSwwCjkyMCwwCjkyMSwwCjkyMiwxCjkyMywwCjkyNCwwCjkyNSwxCjkyNiwxCjkyNywxCjkyOCwxCjkyOSwxCjkzMCwwCjkzMSwwCjkzMiwwCjkzMywxCjkzNCwwCjkzNSwxCjkzNiwwCjkzNywwCjkzOCwwCjkzOSwxCjk0MCwwCjk0MSwwCjk0MiwwCjk0MywxCjk0NCwwCjk0NSwwCjk0NiwxCjk0NywwCjk0OCwxCjk0OSwwCjk1MCwxCjk1MSwwCjk1MiwwCjk1MywwCjk1NCwwCjk1NSwxCjk1NiwwCjk1NywxCjk1OCwxCjk1OSwwCjk2MCwxCjk2MSwxCjk2MiwwCjk2MywxCjk2NCwxCjk2NSwwCjk2NiwwCjk2NywwCjk2OCwxCjk2OSwwCjk3MCwwCjk3MSwwCjk3MiwxCjk3MywwCjk3NCwwCjk3NSwwCjk3NiwwCjk3NywwCjk3OCwwCjk3OSwwCjk4MCwwCjk4MSwxCjk4MiwwCjk4MywwCjk4NCwwCjk4NSwxCjk4NiwwCjk4NywxCjk4OCwxCjk4OSwwCjk5MCwxCjk5MSwwCjk5MiwxCjk5MywwCjk5NCwxCjk5NSwwCjk5NiwxCjk5NywwCjk5OCwwCjk5OSwwCjEwMDAsMQoxMDAxLDAKMTAwMiwxCjEwMDMsMAoxMDA0LDAKMTAwNSwwCjEwMDYsMQoxMDA3LDAKMTAwOCwxCjEwMDksMAoxMDEwLDAKMTAxMSwwCjEwMTIsMAoxMDEzLDEKMTAxNCwwCjEwMTUsMAoxMDE2LDEKMTAxNywwCjEwMTgsMAoxMDE5LDEKMTAyMCwwCjEwMjEsMAoxMDIyLDAKMTAyMywwCjEwMjQsMQoxMDI1LDEKMTAyNiwwCjEwMjcsMQoxMDI4LDAKMTAyOSwxCjEwMzAsMQoxMDMxLDAKMTAzMiwxCjEwMzMsMAoxMDM0LDEKMTAzNSwwCjEwMzYsMQoxMDM3LDEKMTAzOCwwCjEwMzksMAoxMDQwLDEKMTA0MSwwCjEwNDIsMAoxMDQzLDEKMTA0NCwwCjEwNDUsMAoxMDQ2LDAKMTA0NywwCjEwNDgsMQoxMDQ5LDAKMTA1MCwxCjEwNTEsMQoxMDUyLDEKMTA1MywxCjEwNTQsMAoxMDU1LDEKMTA1NiwxCjEwNTcsMAoxMDU4LDAKMTA1OSwxCjEwNjAsMAoxMDYxLDEKMTA2MiwxCjEwNjMsMQoxMDY0LDAKMTA2NSwwCjEwNjYsMQoxMDY3LDAKMTA2OCwxCjEwNjksMQoxMDcwLDEKMTA3MSwwCjEwNzIsMAoxMDczLDEKMTA3NCwxCjEwNzUsMAoxMDc2LDEKMTA3NywwCjEwNzgsMAoxMDc5LDAKMTA4MCwxCjEwODEsMAoxMDgyLDAKMTA4MywxCjEwODQsMQoxMDg1LDAKMTA4NiwwCjEwODcsMAoxMDg4LDEKMTA4OSwwCjEwOTAsMQoxMDkxLDAKMTA5MiwwCjEwOTMsMAoxMDk0LDEKMTA5NSwxCjEwOTYsMQoxMDk3LDEKMTA5OCwxCjEwOTksMQoxMTAwLDAKMTEwMSwxCjExMDIsMQoxMTAzLDEKMTEwNCwxCjExMDUsMAoxMTA2LDAKMTEwNywxCjExMDgsMQoxMTA5LDEKMTExMCwwCjExMTEsMQoxMTEyLDEKMTExMywwCjExMTQsMAoxMTE1LDAKMTExNiwwCjExMTcsMQoxMTE4LDEKMTExOSwwCjExMjAsMQoxMTIxLDEKMTEyMiwwCjExMjMsMAoxMTI0LDEKMTEyNSwwCjExMjYsMAoxMTI3LDEKMTEyOCwwCjExMjksMAoxMTMwLDEKMTEzMSwwCjExMzIsMQoxMTMzLDAKMTEzNCwxCjExMzUsMAoxMTM2LDAKMTEzNywxCjExMzgsMQoxMTM5LDEKMTE0MCwwCjExNDEsMQo=\" target=\"_blank\">Download CSV file</a>"
            ],
            "text/plain": [
              "<IPython.core.display.HTML object>"
            ]
          },
          "metadata": {
            "tags": []
          },
          "execution_count": 28
        }
      ]
    },
    {
      "cell_type": "markdown",
      "metadata": {
        "id": "a4e6ir7dR4BT"
      },
      "source": [
        "# **8.Evolution**"
      ]
    },
    {
      "cell_type": "markdown",
      "metadata": {
        "id": "hZ5Yg2_oC-NS"
      },
      "source": [
        "To sum up the progress of the work released through the weeks, we have this section with some visualizations of our submissions on AIcrowd that gave us the accuracy of our predictions calculated with the actual true values for y_test that we didn't have access to during the contest."
      ]
    },
    {
      "cell_type": "code",
      "metadata": {
        "colab": {
          "base_uri": "https://localhost:8080/"
        },
        "id": "PnFruxzfmV_J",
        "outputId": "a44a076d-e0eb-4eef-c360-4de339938ea3"
      },
      "source": [
        "evolution = pd.read_csv('https://raw.githubusercontent.com/amolinar1/DataMiningProject/main/data/evolution.csv', sep=',')\n",
        "evolution.dtypes"
      ],
      "execution_count": 2,
      "outputs": [
        {
          "output_type": "execute_result",
          "data": {
            "text/plain": [
              "Date                        object\n",
              "accuracy_score             float64\n",
              "jobs_done                   object\n",
              "model                       object\n",
              "parameters                  object\n",
              "Vectorizer or tokenizer     object\n",
              "dtype: object"
            ]
          },
          "metadata": {
            "tags": []
          },
          "execution_count": 2
        }
      ]
    },
    {
      "cell_type": "code",
      "metadata": {
        "id": "9z1X3u--Htea",
        "colab": {
          "base_uri": "https://localhost:8080/",
          "height": 289
        },
        "outputId": "d0a9f325-2bfa-4579-f034-f69fcbc28b0f"
      },
      "source": [
        "evolution['Date'] = pd.to_datetime(evolution['Date'])\n",
        "evolution.tail()"
      ],
      "execution_count": 4,
      "outputs": [
        {
          "output_type": "execute_result",
          "data": {
            "text/html": [
              "<div>\n",
              "<style scoped>\n",
              "    .dataframe tbody tr th:only-of-type {\n",
              "        vertical-align: middle;\n",
              "    }\n",
              "\n",
              "    .dataframe tbody tr th {\n",
              "        vertical-align: top;\n",
              "    }\n",
              "\n",
              "    .dataframe thead th {\n",
              "        text-align: right;\n",
              "    }\n",
              "</style>\n",
              "<table border=\"1\" class=\"dataframe\">\n",
              "  <thead>\n",
              "    <tr style=\"text-align: right;\">\n",
              "      <th></th>\n",
              "      <th>Date</th>\n",
              "      <th>accuracy_score</th>\n",
              "      <th>jobs_done</th>\n",
              "      <th>model</th>\n",
              "      <th>parameters</th>\n",
              "      <th>Vectorizer or tokenizer</th>\n",
              "    </tr>\n",
              "  </thead>\n",
              "  <tbody>\n",
              "    <tr>\n",
              "      <th>21</th>\n",
              "      <td>2020-12-06</td>\n",
              "      <td>0.806</td>\n",
              "      <td>GridSearchCV + a lot of cleaning + PCA</td>\n",
              "      <td>LogisticRegression</td>\n",
              "      <td>(C=2, max_iter=10000)</td>\n",
              "      <td>TF-IDF - default</td>\n",
              "    </tr>\n",
              "    <tr>\n",
              "      <th>22</th>\n",
              "      <td>2020-12-07</td>\n",
              "      <td>0.818</td>\n",
              "      <td>RandomizedSearchCV</td>\n",
              "      <td>LogisticRegression</td>\n",
              "      <td>(C=3, max_iter=10000)</td>\n",
              "      <td>TF-IDF - default</td>\n",
              "    </tr>\n",
              "    <tr>\n",
              "      <th>23</th>\n",
              "      <td>2020-12-08</td>\n",
              "      <td>0.820</td>\n",
              "      <td>Better GridSearchCV</td>\n",
              "      <td>LogisticRegression</td>\n",
              "      <td>(C=1.0, max_iter=10000, multi_class='ovr')</td>\n",
              "      <td>TF-IDF - default</td>\n",
              "    </tr>\n",
              "    <tr>\n",
              "      <th>24</th>\n",
              "      <td>2020-12-09</td>\n",
              "      <td>0.823</td>\n",
              "      <td>Same GridSearchCV + fixing some spelling mista...</td>\n",
              "      <td>LogisticRegression</td>\n",
              "      <td>(C=2.2357, max_iter=10000)</td>\n",
              "      <td>(min_depth=0.01, max_depth=0.9, n_gram_range=(...</td>\n",
              "    </tr>\n",
              "    <tr>\n",
              "      <th>25</th>\n",
              "      <td>2020-12-10</td>\n",
              "      <td>0.835</td>\n",
              "      <td>Even better GridSearchCV + optimiting TF-IDF p...</td>\n",
              "      <td>LogisticRegression</td>\n",
              "      <td>(C=1.623776739188721, class_weight=None, dual=...</td>\n",
              "      <td>(tokenizer=spacy_tokenizer, encoding='latin-1'...</td>\n",
              "    </tr>\n",
              "  </tbody>\n",
              "</table>\n",
              "</div>"
            ],
            "text/plain": [
              "         Date  ...                            Vectorizer or tokenizer\n",
              "21 2020-12-06  ...                                   TF-IDF - default\n",
              "22 2020-12-07  ...                                   TF-IDF - default\n",
              "23 2020-12-08  ...                                   TF-IDF - default\n",
              "24 2020-12-09  ...  (min_depth=0.01, max_depth=0.9, n_gram_range=(...\n",
              "25 2020-12-10  ...  (tokenizer=spacy_tokenizer, encoding='latin-1'...\n",
              "\n",
              "[5 rows x 6 columns]"
            ]
          },
          "metadata": {
            "tags": []
          },
          "execution_count": 4
        }
      ]
    },
    {
      "cell_type": "code",
      "metadata": {
        "colab": {
          "base_uri": "https://localhost:8080/",
          "height": 399
        },
        "id": "cghh-btym7zU",
        "outputId": "f71c3152-64e1-421f-dfa0-8e3d1ad3455f"
      },
      "source": [
        "evolution.plot(kind='line', x= 'Date', y='accuracy_score', figsize=(20,5))\n",
        "plt.xlabel('Date', size=16)\n",
        "plt.ylabel('accuracy_score', size = 16)\n",
        "plt.title('Accuracy Evolution', size = 18)\n",
        "axes = plt.gca()\n",
        "axes.set_ylim([0.75,0.85])"
      ],
      "execution_count": null,
      "outputs": [
        {
          "output_type": "execute_result",
          "data": {
            "text/plain": [
              "(0.75, 0.85)"
            ]
          },
          "metadata": {
            "tags": []
          },
          "execution_count": 76
        },
        {
          "output_type": "display_data",
          "data": {
            "image/png": "[encoded data removed]",
            "text/plain": [
              "<Figure size 1440x360 with 1 Axes>"
            ]
          },
          "metadata": {
            "tags": [],
            "needs_background": "light"
          }
        }
      ]
    },
    {
      "cell_type": "code",
      "metadata": {
        "colab": {
          "base_uri": "https://localhost:8080/",
          "height": 320
        },
        "id": "VmIteb4xcJyI",
        "outputId": "520630ba-bc09-4a8c-a08f-c69a40368b0f"
      },
      "source": [
        "df1 = pd.read_csv(\"https://raw.githubusercontent.com/amolinar1/DataMiningProject/main/data/evolution.csv\", sep=',')\n",
        "df1.Date = pd.to_datetime(df1.Date, format = '%Y-%m-%d')\n",
        "df1.accuracy_score = pd.to_numeric(df1.accuracy_score)\n",
        "#best score cutoff date\n",
        "cutoff = \"2020-12-09\"\n",
        "#sort dataframe because unsorted dates will not plot properly\n",
        "df1 = df1.sort_values([\"Date\"])\n",
        "#plot the whole dataframe in yellow\n",
        "plt.plot(df1.Date, df1.accuracy_score, c = \"y\")\n",
        "#plot the conditional data on top in red\n",
        "plt.plot(df1[df1.Date >= cutoff].Date, df1[df1.Date >= cutoff].accuracy_score, c = \"r\", label = \"what could have been after {}\".format(cutoff))\n",
        "plt.xticks(rotation = 45)\n",
        "plt.legend()\n",
        "axes = plt.gca()\n",
        "axes.set_ylim([0.73,0.87])\n",
        "plt.figure(figsize=(50,50))\n",
        "plt.show()"
      ],
      "execution_count": null,
      "outputs": [
        {
          "output_type": "display_data",
          "data": {
            "image/png": "[encoded data removed]",
            "text/plain": [
              "<Figure size 432x288 with 1 Axes>"
            ]
          },
          "metadata": {
            "tags": [],
            "needs_background": "light"
          }
        },
        {
          "output_type": "display_data",
          "data": {
            "text/plain": [
              "<Figure size 3600x3600 with 0 Axes>"
            ]
          },
          "metadata": {
            "tags": []
          }
        }
      ]
    },
    {
      "cell_type": "markdown",
      "metadata": {
        "id": "x2ElpjNuqzTI"
      },
      "source": [
        "The best accuracy score that we obtained with the test data was 0.823. We think that we could have improved the model if there were more submissions available. Hence the red piece of the curve that ascends after the last week. Of course this is just an assumption, but we are very confident that this would be the case, because of the experience and the deeper understanding we have of the project, datasets and classifiers. Nonetheless, we are satisfied with the results and the improvements of the model through the weeks. We enjoyed the project and its challenges very much."
      ]
    },
    {
      "cell_type": "markdown",
      "metadata": {
        "id": "NDUTYIHFWL-i"
      },
      "source": [
        "#**9.Next time...**"
      ]
    },
    {
      "cell_type": "markdown",
      "metadata": {
        "id": "Ex1RyYeVrchR"
      },
      "source": [
        "To conclude, this block of code is a GridSearch that would give us the best parameters for the TF-IDF and the logistic regression in order to optimize the accuracy of the model. The limitation of resources did not allow us to run this code. Indeed, it would have taken around too much time (days) to get the outputs. So if you're trying to run that last block of code, be patient."
      ]
    },
    {
      "cell_type": "code",
      "metadata": {
        "id": "0HSV9xoaWOQM"
      },
      "source": [
        "# if we had had a lot of time and a super PC, with a GridSearchCV similar to this one\n",
        "# we'd have found all hyperparameters necessary (so we think and assume)\n",
        "\n",
        "pipeline = Pipeline([\n",
        "    ('tfidf', TfidfVectorizer(tokenizer=spacy_tokenizer,stop_words=stop_words)),\n",
        "    ('clf', LogisticRegression(max_iter=10000, random_state=777))\n",
        "])\n",
        "parameters = {\n",
        "    'tfidf__max_df': (0.001, 0.01, 0.1, 0.25, 0.5, 0.75, 0.9, 0.95, 0.975, 0.99),\n",
        "    'tfidf__min_df':(0.001, 0.01, 0.1, 0.25, 0.5, 0.75, 0.9, 0.95, 0.975, 0.99),\n",
        "    'tfidf__ngram_range': [(1, 1), (1, 2), (1, 3), (2, 3), (3,3)],\n",
        "    'tfidf__encoding': ['uft-8', 'latin-1'],\n",
        "    'classifier__penalty' : ['l2'],\n",
        "    'classifier__C' : np.logspace(-4, 4, 20),\n",
        "    'classifier__solver' : ['lbfgs'],\n",
        "    'classifier__multi_class': ['auto']}\n",
        "              ]\n",
        "}\n",
        "\n",
        "grid_search_tune = GridSearchCV(pipeline, parameters, cv=3, n_jobs=2, verbose=3)\n",
        "grid_search_tune.fit(X_train, y_train)\n",
        "\n",
        "print(\"Best parameters set:\")\n",
        "print(grid_search_tune.best_estimator_.steps)"
      ],
      "execution_count": null,
      "outputs": []
    },
    {
      "cell_type": "markdown",
      "metadata": {
        "id": "koOqmqhJkkJj"
      },
      "source": [
        "This GridSearchCV would remove our doubts concerning the hyperparameters of TF-IDF AND our classifier. In  our work we were able to optimize the hyperparameters for our classifier. But we were unsure if the hyperparameters of TF-IDF that we utilised to find those optimum classifier hyperparameters, were also optimized. This GridSearchCV would make sure that both the classifier (LogisticRegression) and our vectorizer (TF-IDF) are in synch and their respective hyperparameters are found simultaneously. \n",
        "\n",
        "The only issue that would still be unresolved and that would take most of the time and effort, would be the data cleaning and processing, as it already was the case in our work."
      ]
    },
    {
      "cell_type": "markdown",
      "metadata": {
        "id": "I0KMNvy0sUN6"
      },
      "source": [
        "#Thanks for reading"
      ]
    }
  ]
}